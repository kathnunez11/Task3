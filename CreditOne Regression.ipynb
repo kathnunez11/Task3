{
 "cells": [
  {
   "cell_type": "code",
   "execution_count": 557,
   "metadata": {},
   "outputs": [],
   "source": [
    "import pandas as pd\n",
    "import numpy as np\n",
    "import scipy \n",
    "from math import sqrt \n",
    "import matplotlib.pyplot as plt\n",
    "#estimators the linear_model Estimator Object was used to access the LinearRegression algorithm from the sklearn base\n",
    "from sklearn.ensemble import RandomForestRegressor\n",
    "from sklearn.linear_model import LinearRegression\n",
    "from sklearn.svm import SVR\n",
    "from sklearn import linear_model\n",
    "#model metrics\n",
    "from sklearn.metrics import mean_squared_error\n",
    "from sklearn.metrics import r2_score\n",
    "from sklearn.model_selection import cross_val_score\n"
   ]
  },
  {
   "cell_type": "code",
   "execution_count": 558,
   "metadata": {},
   "outputs": [],
   "source": [
    "#cross validation sklearn.cross_validation \n",
    "from sklearn.model_selection import train_test_split\n",
    "from sklearn.metrics import mean_squared_error\n",
    "from sklearn.metrics import r2_score\n",
    "from math import sqrt"
   ]
  },
  {
   "cell_type": "code",
   "execution_count": 573,
   "metadata": {},
   "outputs": [],
   "source": [
    "rawData = pd.read_csv('default of credit card clients edited.csv', header=0)"
   ]
  },
  {
   "cell_type": "code",
   "execution_count": 574,
   "metadata": {},
   "outputs": [
    {
     "name": "stdout",
     "output_type": "stream",
     "text": [
      "<class 'pandas.core.frame.DataFrame'>\n",
      "RangeIndex: 30000 entries, 0 to 29999\n",
      "Data columns (total 24 columns):\n",
      " #   Column                       Non-Null Count  Dtype\n",
      "---  ------                       --------------  -----\n",
      " 0   X1LIMIT_BAL                  30000 non-null  int64\n",
      " 1   X2SEX                        30000 non-null  int64\n",
      " 2   X3EDUCATION                  30000 non-null  int64\n",
      " 3   X4MARRIAGE                   30000 non-null  int64\n",
      " 4   X5AGE                        30000 non-null  int64\n",
      " 5   X6PAY_0                      30000 non-null  int64\n",
      " 6   X7PAY_2                      30000 non-null  int64\n",
      " 7   X8PAY_3                      30000 non-null  int64\n",
      " 8   X9PAY_4                      30000 non-null  int64\n",
      " 9   X10PAY_5                     30000 non-null  int64\n",
      " 10  X11PAY_6                     30000 non-null  int64\n",
      " 11  X12BILL_AMT1                 30000 non-null  int64\n",
      " 12  X13BILL_AMT2                 30000 non-null  int64\n",
      " 13  X14BILL_AMT3                 30000 non-null  int64\n",
      " 14  X15BILL_AMT4                 30000 non-null  int64\n",
      " 15  X16BILL_AMT5                 30000 non-null  int64\n",
      " 16  X17BILL_AMT6                 30000 non-null  int64\n",
      " 17  X18PAY_AMT1                  30000 non-null  int64\n",
      " 18  X19PAY_AMT2                  30000 non-null  int64\n",
      " 19  X20PAY_AMT3                  30000 non-null  int64\n",
      " 20  X21PAY_AMT4                  30000 non-null  int64\n",
      " 21  X22PAY_AMT5                  30000 non-null  int64\n",
      " 22  X23PAY_AMT6                  30000 non-null  int64\n",
      " 23  Ydefault_payment_next_month  30000 non-null  int64\n",
      "dtypes: int64(24)\n",
      "memory usage: 5.5 MB\n"
     ]
    }
   ],
   "source": [
    "rawData.info()"
   ]
  },
  {
   "cell_type": "code",
   "execution_count": 575,
   "metadata": {},
   "outputs": [
    {
     "name": "stdout",
     "output_type": "stream",
     "text": [
      "Summary of feature sample\n"
     ]
    },
    {
     "data": {
      "text/html": [
       "<div>\n",
       "<style scoped>\n",
       "    .dataframe tbody tr th:only-of-type {\n",
       "        vertical-align: middle;\n",
       "    }\n",
       "\n",
       "    .dataframe tbody tr th {\n",
       "        vertical-align: top;\n",
       "    }\n",
       "\n",
       "    .dataframe thead th {\n",
       "        text-align: right;\n",
       "    }\n",
       "</style>\n",
       "<table border=\"1\" class=\"dataframe\">\n",
       "  <thead>\n",
       "    <tr style=\"text-align: right;\">\n",
       "      <th></th>\n",
       "      <th>X1LIMIT_BAL</th>\n",
       "      <th>X2SEX</th>\n",
       "      <th>X3EDUCATION</th>\n",
       "      <th>X4MARRIAGE</th>\n",
       "      <th>X5AGE</th>\n",
       "      <th>X6PAY_0</th>\n",
       "      <th>X7PAY_2</th>\n",
       "      <th>X8PAY_3</th>\n",
       "      <th>X9PAY_4</th>\n",
       "      <th>X10PAY_5</th>\n",
       "      <th>...</th>\n",
       "      <th>X14BILL_AMT3</th>\n",
       "      <th>X15BILL_AMT4</th>\n",
       "      <th>X16BILL_AMT5</th>\n",
       "      <th>X17BILL_AMT6</th>\n",
       "      <th>X18PAY_AMT1</th>\n",
       "      <th>X19PAY_AMT2</th>\n",
       "      <th>X20PAY_AMT3</th>\n",
       "      <th>X21PAY_AMT4</th>\n",
       "      <th>X22PAY_AMT5</th>\n",
       "      <th>X23PAY_AMT6</th>\n",
       "    </tr>\n",
       "  </thead>\n",
       "  <tbody>\n",
       "    <tr>\n",
       "      <th>0</th>\n",
       "      <td>20000</td>\n",
       "      <td>2</td>\n",
       "      <td>2</td>\n",
       "      <td>1</td>\n",
       "      <td>24</td>\n",
       "      <td>2</td>\n",
       "      <td>2</td>\n",
       "      <td>-1</td>\n",
       "      <td>-1</td>\n",
       "      <td>-2</td>\n",
       "      <td>...</td>\n",
       "      <td>689</td>\n",
       "      <td>0</td>\n",
       "      <td>0</td>\n",
       "      <td>0</td>\n",
       "      <td>0</td>\n",
       "      <td>689</td>\n",
       "      <td>0</td>\n",
       "      <td>0</td>\n",
       "      <td>0</td>\n",
       "      <td>0</td>\n",
       "    </tr>\n",
       "    <tr>\n",
       "      <th>1</th>\n",
       "      <td>120000</td>\n",
       "      <td>2</td>\n",
       "      <td>2</td>\n",
       "      <td>2</td>\n",
       "      <td>26</td>\n",
       "      <td>-1</td>\n",
       "      <td>2</td>\n",
       "      <td>0</td>\n",
       "      <td>0</td>\n",
       "      <td>0</td>\n",
       "      <td>...</td>\n",
       "      <td>2682</td>\n",
       "      <td>3272</td>\n",
       "      <td>3455</td>\n",
       "      <td>3261</td>\n",
       "      <td>0</td>\n",
       "      <td>1000</td>\n",
       "      <td>1000</td>\n",
       "      <td>1000</td>\n",
       "      <td>0</td>\n",
       "      <td>2000</td>\n",
       "    </tr>\n",
       "    <tr>\n",
       "      <th>2</th>\n",
       "      <td>90000</td>\n",
       "      <td>2</td>\n",
       "      <td>2</td>\n",
       "      <td>2</td>\n",
       "      <td>34</td>\n",
       "      <td>0</td>\n",
       "      <td>0</td>\n",
       "      <td>0</td>\n",
       "      <td>0</td>\n",
       "      <td>0</td>\n",
       "      <td>...</td>\n",
       "      <td>13559</td>\n",
       "      <td>14331</td>\n",
       "      <td>14948</td>\n",
       "      <td>15549</td>\n",
       "      <td>1518</td>\n",
       "      <td>1500</td>\n",
       "      <td>1000</td>\n",
       "      <td>1000</td>\n",
       "      <td>1000</td>\n",
       "      <td>5000</td>\n",
       "    </tr>\n",
       "    <tr>\n",
       "      <th>3</th>\n",
       "      <td>50000</td>\n",
       "      <td>2</td>\n",
       "      <td>2</td>\n",
       "      <td>1</td>\n",
       "      <td>37</td>\n",
       "      <td>0</td>\n",
       "      <td>0</td>\n",
       "      <td>0</td>\n",
       "      <td>0</td>\n",
       "      <td>0</td>\n",
       "      <td>...</td>\n",
       "      <td>49291</td>\n",
       "      <td>28314</td>\n",
       "      <td>28959</td>\n",
       "      <td>29547</td>\n",
       "      <td>2000</td>\n",
       "      <td>2019</td>\n",
       "      <td>1200</td>\n",
       "      <td>1100</td>\n",
       "      <td>1069</td>\n",
       "      <td>1000</td>\n",
       "    </tr>\n",
       "    <tr>\n",
       "      <th>4</th>\n",
       "      <td>50000</td>\n",
       "      <td>1</td>\n",
       "      <td>2</td>\n",
       "      <td>1</td>\n",
       "      <td>57</td>\n",
       "      <td>-1</td>\n",
       "      <td>0</td>\n",
       "      <td>-1</td>\n",
       "      <td>0</td>\n",
       "      <td>0</td>\n",
       "      <td>...</td>\n",
       "      <td>35835</td>\n",
       "      <td>20940</td>\n",
       "      <td>19146</td>\n",
       "      <td>19131</td>\n",
       "      <td>2000</td>\n",
       "      <td>36681</td>\n",
       "      <td>10000</td>\n",
       "      <td>9000</td>\n",
       "      <td>689</td>\n",
       "      <td>679</td>\n",
       "    </tr>\n",
       "  </tbody>\n",
       "</table>\n",
       "<p>5 rows × 23 columns</p>\n",
       "</div>"
      ],
      "text/plain": [
       "   X1LIMIT_BAL  X2SEX  X3EDUCATION  X4MARRIAGE  X5AGE  X6PAY_0  X7PAY_2  \\\n",
       "0        20000      2            2           1     24        2        2   \n",
       "1       120000      2            2           2     26       -1        2   \n",
       "2        90000      2            2           2     34        0        0   \n",
       "3        50000      2            2           1     37        0        0   \n",
       "4        50000      1            2           1     57       -1        0   \n",
       "\n",
       "   X8PAY_3  X9PAY_4  X10PAY_5  ...  X14BILL_AMT3  X15BILL_AMT4  X16BILL_AMT5  \\\n",
       "0       -1       -1        -2  ...           689             0             0   \n",
       "1        0        0         0  ...          2682          3272          3455   \n",
       "2        0        0         0  ...         13559         14331         14948   \n",
       "3        0        0         0  ...         49291         28314         28959   \n",
       "4       -1        0         0  ...         35835         20940         19146   \n",
       "\n",
       "   X17BILL_AMT6  X18PAY_AMT1  X19PAY_AMT2  X20PAY_AMT3  X21PAY_AMT4  \\\n",
       "0             0            0          689            0            0   \n",
       "1          3261            0         1000         1000         1000   \n",
       "2         15549         1518         1500         1000         1000   \n",
       "3         29547         2000         2019         1200         1100   \n",
       "4         19131         2000        36681        10000         9000   \n",
       "\n",
       "   X22PAY_AMT5  X23PAY_AMT6  \n",
       "0            0            0  \n",
       "1            0         2000  \n",
       "2         1000         5000  \n",
       "3         1069         1000  \n",
       "4          689          679  \n",
       "\n",
       "[5 rows x 23 columns]"
      ]
     },
     "execution_count": 575,
     "metadata": {},
     "output_type": "execute_result"
    }
   ],
   "source": [
    "#1. Select the features\n",
    "#variableName = dataframe.iloc[:,0:4]\n",
    "#features\n",
    "features = rawData.iloc[:,0:23]\n",
    "print('Summary of feature sample')\n",
    "features.head()"
   ]
  },
  {
   "cell_type": "code",
   "execution_count": 576,
   "metadata": {},
   "outputs": [
    {
     "data": {
      "text/plain": [
       "<bound method DataFrame.count of        X1LIMIT_BAL  X2SEX  X3EDUCATION  X4MARRIAGE  X5AGE  X6PAY_0  X7PAY_2  \\\n",
       "0            20000      2            2           1     24        2        2   \n",
       "1           120000      2            2           2     26       -1        2   \n",
       "2            90000      2            2           2     34        0        0   \n",
       "3            50000      2            2           1     37        0        0   \n",
       "4            50000      1            2           1     57       -1        0   \n",
       "...            ...    ...          ...         ...    ...      ...      ...   \n",
       "29995       220000      1            3           1     39        0        0   \n",
       "29996       150000      1            3           2     43       -1       -1   \n",
       "29997        30000      1            2           2     37        4        3   \n",
       "29998        80000      1            3           1     41        1       -1   \n",
       "29999        50000      1            2           1     46        0        0   \n",
       "\n",
       "       X8PAY_3  X9PAY_4  X10PAY_5  ...  X15BILL_AMT4  X16BILL_AMT5  \\\n",
       "0           -1       -1        -2  ...             0             0   \n",
       "1            0        0         0  ...          3272          3455   \n",
       "2            0        0         0  ...         14331         14948   \n",
       "3            0        0         0  ...         28314         28959   \n",
       "4           -1        0         0  ...         20940         19146   \n",
       "...        ...      ...       ...  ...           ...           ...   \n",
       "29995        0        0         0  ...         88004         31237   \n",
       "29996       -1       -1         0  ...          8979          5190   \n",
       "29997        2       -1         0  ...         20878         20582   \n",
       "29998        0        0         0  ...         52774         11855   \n",
       "29999        0        0         0  ...         36535         32428   \n",
       "\n",
       "       X17BILL_AMT6  X18PAY_AMT1  X19PAY_AMT2  X20PAY_AMT3  X21PAY_AMT4  \\\n",
       "0                 0            0          689            0            0   \n",
       "1              3261            0         1000         1000         1000   \n",
       "2             15549         1518         1500         1000         1000   \n",
       "3             29547         2000         2019         1200         1100   \n",
       "4             19131         2000        36681        10000         9000   \n",
       "...             ...          ...          ...          ...          ...   \n",
       "29995         15980         8500        20000         5003         3047   \n",
       "29996             0         1837         3526         8998          129   \n",
       "29997         19357            0            0        22000         4200   \n",
       "29998         48944        85900         3409         1178         1926   \n",
       "29999         15313         2078         1800         1430         1000   \n",
       "\n",
       "       X22PAY_AMT5  X23PAY_AMT6  Ydefault_payment_next_month  \n",
       "0                0            0                            1  \n",
       "1                0         2000                            1  \n",
       "2             1000         5000                            0  \n",
       "3             1069         1000                            0  \n",
       "4              689          679                            0  \n",
       "...            ...          ...                          ...  \n",
       "29995         5000         1000                            0  \n",
       "29996            0            0                            0  \n",
       "29997         2000         3100                            1  \n",
       "29998        52964         1804                            1  \n",
       "29999         1000         1000                            1  \n",
       "\n",
       "[30000 rows x 24 columns]>"
      ]
     },
     "execution_count": 576,
     "metadata": {},
     "output_type": "execute_result"
    }
   ],
   "source": [
    "#2. Select the Dependent Variable\n",
    "\n",
    "#dependent variable\n",
    "depVar = rawData['Ydefault_payment_next_month']\n",
    "\n",
    "rawData.count"
   ]
  },
  {
   "cell_type": "code",
   "execution_count": 592,
   "metadata": {},
   "outputs": [
    {
     "data": {
      "text/html": [
       "<div>\n",
       "<style scoped>\n",
       "    .dataframe tbody tr th:only-of-type {\n",
       "        vertical-align: middle;\n",
       "    }\n",
       "\n",
       "    .dataframe tbody tr th {\n",
       "        vertical-align: top;\n",
       "    }\n",
       "\n",
       "    .dataframe thead th {\n",
       "        text-align: right;\n",
       "    }\n",
       "</style>\n",
       "<table border=\"1\" class=\"dataframe\">\n",
       "  <thead>\n",
       "    <tr style=\"text-align: right;\">\n",
       "      <th></th>\n",
       "      <th>X1LIMIT_BAL</th>\n",
       "      <th>X2SEX</th>\n",
       "      <th>X3EDUCATION</th>\n",
       "      <th>X4MARRIAGE</th>\n",
       "      <th>X5AGE</th>\n",
       "      <th>X6PAY_0</th>\n",
       "      <th>X7PAY_2</th>\n",
       "      <th>X8PAY_3</th>\n",
       "      <th>X9PAY_4</th>\n",
       "      <th>X10PAY_5</th>\n",
       "      <th>...</th>\n",
       "      <th>X14BILL_AMT3</th>\n",
       "      <th>X15BILL_AMT4</th>\n",
       "      <th>X16BILL_AMT5</th>\n",
       "      <th>X17BILL_AMT6</th>\n",
       "      <th>X18PAY_AMT1</th>\n",
       "      <th>X19PAY_AMT2</th>\n",
       "      <th>X20PAY_AMT3</th>\n",
       "      <th>X21PAY_AMT4</th>\n",
       "      <th>X22PAY_AMT5</th>\n",
       "      <th>X23PAY_AMT6</th>\n",
       "    </tr>\n",
       "  </thead>\n",
       "  <tbody>\n",
       "    <tr>\n",
       "      <th>0</th>\n",
       "      <td>20000</td>\n",
       "      <td>2</td>\n",
       "      <td>2</td>\n",
       "      <td>1</td>\n",
       "      <td>24</td>\n",
       "      <td>2</td>\n",
       "      <td>2</td>\n",
       "      <td>-1</td>\n",
       "      <td>-1</td>\n",
       "      <td>-2</td>\n",
       "      <td>...</td>\n",
       "      <td>689</td>\n",
       "      <td>0</td>\n",
       "      <td>0</td>\n",
       "      <td>0</td>\n",
       "      <td>0</td>\n",
       "      <td>689</td>\n",
       "      <td>0</td>\n",
       "      <td>0</td>\n",
       "      <td>0</td>\n",
       "      <td>0</td>\n",
       "    </tr>\n",
       "    <tr>\n",
       "      <th>1</th>\n",
       "      <td>120000</td>\n",
       "      <td>2</td>\n",
       "      <td>2</td>\n",
       "      <td>2</td>\n",
       "      <td>26</td>\n",
       "      <td>-1</td>\n",
       "      <td>2</td>\n",
       "      <td>0</td>\n",
       "      <td>0</td>\n",
       "      <td>0</td>\n",
       "      <td>...</td>\n",
       "      <td>2682</td>\n",
       "      <td>3272</td>\n",
       "      <td>3455</td>\n",
       "      <td>3261</td>\n",
       "      <td>0</td>\n",
       "      <td>1000</td>\n",
       "      <td>1000</td>\n",
       "      <td>1000</td>\n",
       "      <td>0</td>\n",
       "      <td>2000</td>\n",
       "    </tr>\n",
       "    <tr>\n",
       "      <th>2</th>\n",
       "      <td>90000</td>\n",
       "      <td>2</td>\n",
       "      <td>2</td>\n",
       "      <td>2</td>\n",
       "      <td>34</td>\n",
       "      <td>0</td>\n",
       "      <td>0</td>\n",
       "      <td>0</td>\n",
       "      <td>0</td>\n",
       "      <td>0</td>\n",
       "      <td>...</td>\n",
       "      <td>13559</td>\n",
       "      <td>14331</td>\n",
       "      <td>14948</td>\n",
       "      <td>15549</td>\n",
       "      <td>1518</td>\n",
       "      <td>1500</td>\n",
       "      <td>1000</td>\n",
       "      <td>1000</td>\n",
       "      <td>1000</td>\n",
       "      <td>5000</td>\n",
       "    </tr>\n",
       "    <tr>\n",
       "      <th>3</th>\n",
       "      <td>50000</td>\n",
       "      <td>2</td>\n",
       "      <td>2</td>\n",
       "      <td>1</td>\n",
       "      <td>37</td>\n",
       "      <td>0</td>\n",
       "      <td>0</td>\n",
       "      <td>0</td>\n",
       "      <td>0</td>\n",
       "      <td>0</td>\n",
       "      <td>...</td>\n",
       "      <td>49291</td>\n",
       "      <td>28314</td>\n",
       "      <td>28959</td>\n",
       "      <td>29547</td>\n",
       "      <td>2000</td>\n",
       "      <td>2019</td>\n",
       "      <td>1200</td>\n",
       "      <td>1100</td>\n",
       "      <td>1069</td>\n",
       "      <td>1000</td>\n",
       "    </tr>\n",
       "    <tr>\n",
       "      <th>4</th>\n",
       "      <td>50000</td>\n",
       "      <td>1</td>\n",
       "      <td>2</td>\n",
       "      <td>1</td>\n",
       "      <td>57</td>\n",
       "      <td>-1</td>\n",
       "      <td>0</td>\n",
       "      <td>-1</td>\n",
       "      <td>0</td>\n",
       "      <td>0</td>\n",
       "      <td>...</td>\n",
       "      <td>35835</td>\n",
       "      <td>20940</td>\n",
       "      <td>19146</td>\n",
       "      <td>19131</td>\n",
       "      <td>2000</td>\n",
       "      <td>36681</td>\n",
       "      <td>10000</td>\n",
       "      <td>9000</td>\n",
       "      <td>689</td>\n",
       "      <td>679</td>\n",
       "    </tr>\n",
       "  </tbody>\n",
       "</table>\n",
       "<p>5 rows × 23 columns</p>\n",
       "</div>"
      ],
      "text/plain": [
       "   X1LIMIT_BAL  X2SEX  X3EDUCATION  X4MARRIAGE  X5AGE  X6PAY_0  X7PAY_2  \\\n",
       "0        20000      2            2           1     24        2        2   \n",
       "1       120000      2            2           2     26       -1        2   \n",
       "2        90000      2            2           2     34        0        0   \n",
       "3        50000      2            2           1     37        0        0   \n",
       "4        50000      1            2           1     57       -1        0   \n",
       "\n",
       "   X8PAY_3  X9PAY_4  X10PAY_5  ...  X14BILL_AMT3  X15BILL_AMT4  X16BILL_AMT5  \\\n",
       "0       -1       -1        -2  ...           689             0             0   \n",
       "1        0        0         0  ...          2682          3272          3455   \n",
       "2        0        0         0  ...         13559         14331         14948   \n",
       "3        0        0         0  ...         49291         28314         28959   \n",
       "4       -1        0         0  ...         35835         20940         19146   \n",
       "\n",
       "   X17BILL_AMT6  X18PAY_AMT1  X19PAY_AMT2  X20PAY_AMT3  X21PAY_AMT4  \\\n",
       "0             0            0          689            0            0   \n",
       "1          3261            0         1000         1000         1000   \n",
       "2         15549         1518         1500         1000         1000   \n",
       "3         29547         2000         2019         1200         1100   \n",
       "4         19131         2000        36681        10000         9000   \n",
       "\n",
       "   X22PAY_AMT5  X23PAY_AMT6  \n",
       "0            0            0  \n",
       "1            0         2000  \n",
       "2         1000         5000  \n",
       "3         1069         1000  \n",
       "4          689          679  \n",
       "\n",
       "[5 rows x 23 columns]"
      ]
     },
     "execution_count": 592,
     "metadata": {},
     "output_type": "execute_result"
    }
   ],
   "source": [
    "#3. Establish the training set for the X-variables or Feature space (70/30 split)\n",
    "\n",
    "#Training Set (Feature Space: X Training)\n",
    "X_train = (features[: 2100])\n",
    "X_train.head()"
   ]
  },
  {
   "cell_type": "code",
   "execution_count": 593,
   "metadata": {},
   "outputs": [
    {
     "data": {
      "text/plain": [
       "(2100, 23)"
      ]
     },
     "execution_count": 593,
     "metadata": {},
     "output_type": "execute_result"
    }
   ],
   "source": [
    "X_train_scaled=scaler.transform(X_train)\n",
    "X_train_scaled.shape\n"
   ]
  },
  {
   "cell_type": "code",
   "execution_count": 594,
   "metadata": {},
   "outputs": [
    {
     "data": {
      "text/plain": [
       "(2100, 23)"
      ]
     },
     "execution_count": 594,
     "metadata": {},
     "output_type": "execute_result"
    }
   ],
   "source": [
    "from sklearn import preprocessing\n",
    "X_scaled = preprocessing.robust_scale(X_train)\n",
    "X_scaled.shape"
   ]
  },
  {
   "cell_type": "code",
   "execution_count": 595,
   "metadata": {},
   "outputs": [
    {
     "data": {
      "text/plain": [
       "array([ 0.14132275, -0.41761905, -0.19666667, -0.41619048,  0.10069597,\n",
       "       -0.02142857, -0.15619048, -0.17380952, -0.26809524, -0.27380952,\n",
       "       -0.29428571,  0.48903784,  0.48582894,  0.48082368,  0.47819007,\n",
       "        0.4667252 ,  0.49717762,  0.83857776,  0.71966314,  0.81981442,\n",
       "        0.92341426,  0.93712302,  0.95099893])"
      ]
     },
     "execution_count": 595,
     "metadata": {},
     "output_type": "execute_result"
    }
   ],
   "source": [
    "X_scaled.mean(axis=0)\n"
   ]
  },
  {
   "cell_type": "code",
   "execution_count": 596,
   "metadata": {},
   "outputs": [
    {
     "data": {
      "text/plain": [
       "array([0.71199202, 0.49316668, 0.75900206, 0.52474462, 0.7204739 ,\n",
       "       1.11612333, 1.19538189, 1.25310273, 1.18644374, 1.16895548,\n",
       "       1.1964494 , 1.24469359, 1.2585732 , 1.28735135, 1.37359209,\n",
       "       1.31622877, 1.36543713, 3.41839729, 3.33297951, 3.20871287,\n",
       "       3.87427323, 4.64888133, 5.06783558])"
      ]
     },
     "execution_count": 596,
     "metadata": {},
     "output_type": "execute_result"
    }
   ],
   "source": [
    "X_scaled.std(axis=0)"
   ]
  },
  {
   "cell_type": "code",
   "execution_count": 597,
   "metadata": {},
   "outputs": [
    {
     "data": {
      "text/plain": [
       "RobustScaler(copy=True, quantile_range=(25.0, 75.0), with_centering=True,\n",
       "             with_scaling=True)"
      ]
     },
     "execution_count": 597,
     "metadata": {},
     "output_type": "execute_result"
    }
   ],
   "source": [
    "#If your data contains many outliers, scaling using the mean and variance of the data is likely to not work very well. \n",
    "#In these cases, you can use robust_scale and RobustScaler as drop-in replacements instead. They use more robust estimates for the center and range of your data.\n",
    "scaler = preprocessing.RobustScaler().fit(X_train)\n",
    "scaler"
   ]
  },
  {
   "cell_type": "code",
   "execution_count": 598,
   "metadata": {},
   "outputs": [
    {
     "data": {
      "text/plain": [
       "array([1.800000e+05, 1.000000e+00, 1.000000e+00, 1.000000e+00,\n",
       "       1.300000e+01, 1.000000e+00, 1.000000e+00, 1.000000e+00,\n",
       "       1.000000e+00, 1.000000e+00, 1.000000e+00, 5.928025e+04,\n",
       "       5.712625e+04, 5.248700e+04, 4.734875e+04, 4.657525e+04,\n",
       "       4.602550e+04, 4.045250e+03, 4.413250e+03, 3.773250e+03,\n",
       "       3.760000e+03, 3.744000e+03, 4.000000e+03])"
      ]
     },
     "execution_count": 598,
     "metadata": {},
     "output_type": "execute_result"
    }
   ],
   "source": [
    "scaler.scale_"
   ]
  },
  {
   "cell_type": "code",
   "execution_count": 599,
   "metadata": {},
   "outputs": [
    {
     "name": "stdout",
     "output_type": "stream",
     "text": [
      "The number of observations in the Y training set are: 2100\n"
     ]
    },
    {
     "data": {
      "text/plain": [
       "0    1\n",
       "1    1\n",
       "2    0\n",
       "3    0\n",
       "4    0\n",
       "Name: Ydefault_payment_next_month, dtype: int64"
      ]
     },
     "execution_count": 599,
     "metadata": {},
     "output_type": "execute_result"
    }
   ],
   "source": [
    "#4. Establish the training set for the Y-variable or dependent variable (the number of rows much match the X-training set)\n",
    "#Dependent Variable Training Set (y Training)\n",
    "y_train = depVar[: 2100]\n",
    "y_train_count = len(y_train.index)\n",
    "print('The number of observations in the Y training set are:',str(y_train_count))\n",
    "y_train.head()"
   ]
  },
  {
   "cell_type": "code",
   "execution_count": 601,
   "metadata": {},
   "outputs": [
    {
     "name": "stdout",
     "output_type": "stream",
     "text": [
      "The number of observations in the feature testing set is: 900\n",
      "       X1LIMIT_BAL  X2SEX  X3EDUCATION  X4MARRIAGE  X5AGE  X6PAY_0  X7PAY_2  \\\n",
      "29100       320000      2            3           1     52       -2       -2   \n",
      "29101        80000      2            2           2     56        0        0   \n",
      "29102       180000      2            2           1     58       -2       -2   \n",
      "29103        60000      2            2           2     51        0        0   \n",
      "29104       440000      2            1           1     54        0        0   \n",
      "\n",
      "       X8PAY_3  X9PAY_4  X10PAY_5  ...  X14BILL_AMT3  X15BILL_AMT4  \\\n",
      "29100       -2       -2        -2  ...           218             0   \n",
      "29101        0        0         0  ...         49339         50415   \n",
      "29102       -2       -2        -2  ...           750          1576   \n",
      "29103        0        0         0  ...         19289         19033   \n",
      "29104        0        0         0  ...        169622        169140   \n",
      "\n",
      "       X16BILL_AMT5  X17BILL_AMT6  X18PAY_AMT1  X19PAY_AMT2  X20PAY_AMT3  \\\n",
      "29100          2355             0         2080          218            0   \n",
      "29101         45859         43152         2000         2000         2000   \n",
      "29102          1504             0            0          750         1576   \n",
      "29103         20793         23530         2065         2000         2000   \n",
      "29104        152404        138447         9700         6323         5700   \n",
      "\n",
      "       X21PAY_AMT4  X22PAY_AMT5  X23PAY_AMT6  \n",
      "29100         2355            0            0  \n",
      "29101         2007         1600         1900  \n",
      "29102         1504            0         1000  \n",
      "29103         2000         3000         3000  \n",
      "29104         4800         4000         4500  \n",
      "\n",
      "[5 rows x 23 columns]\n"
     ]
    }
   ],
   "source": [
    "#5. Establish the testing set for the X-Variables or Feature space\n",
    "\n",
    "#Testing Set (X Testing)\n",
    "X_test = features[-900:]\n",
    "X_test_count = len(X_test.index)\n",
    "print('The number of observations in the feature testing set is:',str(X_test_count))\n",
    "print(X_test.head())\n",
    "\n"
   ]
  },
  {
   "cell_type": "code",
   "execution_count": 602,
   "metadata": {},
   "outputs": [
    {
     "data": {
      "text/plain": [
       "(900, 23)"
      ]
     },
     "execution_count": 602,
     "metadata": {},
     "output_type": "execute_result"
    }
   ],
   "source": [
    "X_test_scaled=scaler.transform(X_test)\n",
    "X_test_scaled.shape"
   ]
  },
  {
   "cell_type": "code",
   "execution_count": 603,
   "metadata": {},
   "outputs": [
    {
     "name": "stdout",
     "output_type": "stream",
     "text": [
      "The number of observations in the Y training set are: 900\n"
     ]
    },
    {
     "data": {
      "text/plain": [
       "29100    0\n",
       "29101    0\n",
       "29102    0\n",
       "29103    0\n",
       "29104    0\n",
       "Name: Ydefault_payment_next_month, dtype: int64"
      ]
     },
     "execution_count": 603,
     "metadata": {},
     "output_type": "execute_result"
    }
   ],
   "source": [
    "#6. Establish Ground truth \n",
    "\n",
    "#Ground Truth (y_test) \n",
    "y_test = depVar[-900:]\n",
    "y_test_count = len(y_test.index)\n",
    "print('The number of observations in the Y training set are:',str(y_test_count))\n",
    "y_test.head()"
   ]
  },
  {
   "cell_type": "code",
   "execution_count": 586,
   "metadata": {},
   "outputs": [
    {
     "data": {
      "text/plain": [
       "((1575, 23), (525, 23))"
      ]
     },
     "execution_count": 586,
     "metadata": {},
     "output_type": "execute_result"
    }
   ],
   "source": [
    "#Cross Validation to help prevent overfitting. In Sci-Kit Learn there is a pre-built function (sklearn.cross_validation)\n",
    "#X_train, X_test, y_train, y_test = train_test_split(X_train, y_train)\n",
    "#X_train.shape, X_test.shape"
   ]
  },
  {
   "cell_type": "code",
   "execution_count": 604,
   "metadata": {},
   "outputs": [
    {
     "data": {
      "text/plain": [
       "((1575, 23), (525, 23))"
      ]
     },
     "execution_count": 604,
     "metadata": {},
     "output_type": "execute_result"
    }
   ],
   "source": [
    "#Cross Validation to help prevent overfitting. In Sci-Kit Learn there is a pre-built function (sklearn.cross_validation)\n",
    "X_train_scaled, X_test_scaled, y_train, y_test = train_test_split(X_train_scaled, y_train)\n",
    "X_train_scaled.shape, X_test_scaled.shape"
   ]
  },
  {
   "cell_type": "code",
   "execution_count": 605,
   "metadata": {},
   "outputs": [],
   "source": [
    "#Building the model\n",
    "#3 different Models\n",
    "modelSVR = SVR()\n",
    "modelRF = RandomForestRegressor()\n",
    "modelLR = LinearRegression()"
   ]
  },
  {
   "cell_type": "code",
   "execution_count": 606,
   "metadata": {},
   "outputs": [
    {
     "data": {
      "text/plain": [
       "{'C': 1.0,\n",
       " 'cache_size': 200,\n",
       " 'coef0': 0.0,\n",
       " 'degree': 3,\n",
       " 'epsilon': 0.1,\n",
       " 'gamma': 'scale',\n",
       " 'kernel': 'rbf',\n",
       " 'max_iter': -1,\n",
       " 'shrinking': True,\n",
       " 'tol': 0.001,\n",
       " 'verbose': False}"
      ]
     },
     "execution_count": 606,
     "metadata": {},
     "output_type": "execute_result"
    }
   ],
   "source": [
    "modelSVR.get_params()"
   ]
  },
  {
   "cell_type": "code",
   "execution_count": 607,
   "metadata": {},
   "outputs": [
    {
     "data": {
      "text/plain": [
       "{'bootstrap': True,\n",
       " 'ccp_alpha': 0.0,\n",
       " 'criterion': 'mse',\n",
       " 'max_depth': None,\n",
       " 'max_features': 'auto',\n",
       " 'max_leaf_nodes': None,\n",
       " 'max_samples': None,\n",
       " 'min_impurity_decrease': 0.0,\n",
       " 'min_impurity_split': None,\n",
       " 'min_samples_leaf': 1,\n",
       " 'min_samples_split': 2,\n",
       " 'min_weight_fraction_leaf': 0.0,\n",
       " 'n_estimators': 100,\n",
       " 'n_jobs': None,\n",
       " 'oob_score': False,\n",
       " 'random_state': None,\n",
       " 'verbose': 0,\n",
       " 'warm_start': False}"
      ]
     },
     "execution_count": 607,
     "metadata": {},
     "output_type": "execute_result"
    }
   ],
   "source": [
    "modelRF.get_params()"
   ]
  },
  {
   "cell_type": "code",
   "execution_count": 608,
   "metadata": {},
   "outputs": [
    {
     "data": {
      "text/plain": [
       "{'copy_X': True, 'fit_intercept': True, 'n_jobs': None, 'normalize': False}"
      ]
     },
     "execution_count": 608,
     "metadata": {},
     "output_type": "execute_result"
    }
   ],
   "source": [
    "modelLR.get_params()"
   ]
  },
  {
   "cell_type": "code",
   "execution_count": 640,
   "metadata": {},
   "outputs": [],
   "source": [
    "#SVR\n",
    "#Linear Kernel: K(X,Y)=XTY\n",
    "#Polynomial kernel: K(X,Y)=(γ⋅XTY+r)d,γ>0\n",
    "#Radial basis function (RBF) Kernel: K(X,Y)=exp(∥X−Y∥2/2σ2) which in simple form can be written as exp(−γ⋅∥X−Y∥2),γ>0\n",
    "#Sigmoid Kernel: K(X,Y)=tanh(γ⋅XTY+r) which is similar to the sigmoid function in logistic regression.\n",
    "# r, d, and γ are kernel parameters.\n",
    "Tuned_modelSVR = SVR(verbose=True, cache_size=512)"
   ]
  },
  {
   "cell_type": "code",
   "execution_count": 610,
   "metadata": {},
   "outputs": [],
   "source": [
    "#max_depth parameters controlling the size of the trees to reduce memory consumption, the size of the trees should be controlled \n",
    "#random_state controls the sampling of the features to consider when looking for the best split at each node\n",
    "Tuned_modelRF = RandomForestRegressor(max_depth=2, random_state=0)"
   ]
  },
  {
   "cell_type": "code",
   "execution_count": 611,
   "metadata": {},
   "outputs": [],
   "source": [
    "#LR\n",
    "#The number of jobs to use for the computation. This will only provide speedup for n_targets > 1 and sufficient large problems. \n",
    "#None means 1 unless in a joblib.parallel_backend context. -1 means using all processors.\n",
    "#fit_intercept set to False, no intercept will be used in calculations (i.e. data is expected to be centered).\n",
    "Tuned_modelLR = LinearRegression(n_jobs=4, fit_intercept=False)"
   ]
  },
  {
   "cell_type": "code",
   "execution_count": 641,
   "metadata": {},
   "outputs": [
    {
     "name": "stdout",
     "output_type": "stream",
     "text": [
      "[LibSVM]"
     ]
    },
    {
     "data": {
      "text/plain": [
       "SVR(C=1.0, cache_size=512, coef0=0.0, degree=3, epsilon=0.1, gamma='scale',\n",
       "    kernel='rbf', max_iter=-1, shrinking=True, tol=0.001, verbose=True)"
      ]
     },
     "execution_count": 641,
     "metadata": {},
     "output_type": "execute_result"
    }
   ],
   "source": [
    "Tuned_modelSVR.fit(X_train_scaled,y_train)"
   ]
  },
  {
   "cell_type": "code",
   "execution_count": 613,
   "metadata": {},
   "outputs": [
    {
     "data": {
      "text/plain": [
       "RandomForestRegressor(bootstrap=True, ccp_alpha=0.0, criterion='mse',\n",
       "                      max_depth=2, max_features='auto', max_leaf_nodes=None,\n",
       "                      max_samples=None, min_impurity_decrease=0.0,\n",
       "                      min_impurity_split=None, min_samples_leaf=1,\n",
       "                      min_samples_split=2, min_weight_fraction_leaf=0.0,\n",
       "                      n_estimators=100, n_jobs=None, oob_score=False,\n",
       "                      random_state=0, verbose=0, warm_start=False)"
      ]
     },
     "execution_count": 613,
     "metadata": {},
     "output_type": "execute_result"
    }
   ],
   "source": [
    "Tuned_modelRF.fit(X_train_scaled,y_train)"
   ]
  },
  {
   "cell_type": "code",
   "execution_count": 614,
   "metadata": {},
   "outputs": [
    {
     "data": {
      "text/plain": [
       "LinearRegression(copy_X=True, fit_intercept=False, n_jobs=4, normalize=False)"
      ]
     },
     "execution_count": 614,
     "metadata": {},
     "output_type": "execute_result"
    }
   ],
   "source": [
    "Tuned_modelLR.fit(X_train_scaled,y_train)"
   ]
  },
  {
   "cell_type": "code",
   "execution_count": 615,
   "metadata": {},
   "outputs": [
    {
     "name": "stdout",
     "output_type": "stream",
     "text": [
      "0        1\n",
      "1        1\n",
      "2        0\n",
      "3        0\n",
      "4        0\n",
      "        ..\n",
      "29995    0\n",
      "29996    0\n",
      "29997    1\n",
      "29998    1\n",
      "29999    1\n",
      "Name: Ydefault_payment_next_month, Length: 30000, dtype: int64\n"
     ]
    }
   ],
   "source": [
    "#dependent variable\n",
    "print(depVar)"
   ]
  },
  {
   "cell_type": "code",
   "execution_count": 483,
   "metadata": {},
   "outputs": [
    {
     "data": {
      "text/plain": [
       "RandomForestRegressor(bootstrap=True, ccp_alpha=0.0, criterion='mse',\n",
       "                      max_depth=None, max_features='auto', max_leaf_nodes=None,\n",
       "                      max_samples=None, min_impurity_decrease=0.0,\n",
       "                      min_impurity_split=None, min_samples_leaf=1,\n",
       "                      min_samples_split=2, min_weight_fraction_leaf=0.0,\n",
       "                      n_estimators=100, n_jobs=None, oob_score=False,\n",
       "                      random_state=None, verbose=0, warm_start=False)"
      ]
     },
     "execution_count": 483,
     "metadata": {},
     "output_type": "execute_result"
    }
   ],
   "source": [
    "#6. Random Forest\n",
    "#modelRF.fit(X_train,y_train)"
   ]
  },
  {
   "cell_type": "code",
   "execution_count": 484,
   "metadata": {},
   "outputs": [
    {
     "data": {
      "text/plain": [
       "SVR(C=1.0, cache_size=200, coef0=0.0, degree=3, epsilon=0.1, gamma='scale',\n",
       "    kernel='rbf', max_iter=-1, shrinking=True, tol=0.001, verbose=False)"
      ]
     },
     "execution_count": 484,
     "metadata": {},
     "output_type": "execute_result"
    }
   ],
   "source": [
    "#7. Support Vector Regression\n",
    "#modelSVR.fit(X_train,y_train)"
   ]
  },
  {
   "cell_type": "code",
   "execution_count": 485,
   "metadata": {},
   "outputs": [
    {
     "data": {
      "text/plain": [
       "LinearRegression(copy_X=True, fit_intercept=True, n_jobs=None, normalize=False)"
      ]
     },
     "execution_count": 485,
     "metadata": {},
     "output_type": "execute_result"
    }
   ],
   "source": [
    "#8. Linear Regression\n",
    "#modelLR.fit(X_train,y_train)"
   ]
  },
  {
   "cell_type": "code",
   "execution_count": 486,
   "metadata": {},
   "outputs": [
    {
     "name": "stdout",
     "output_type": "stream",
     "text": [
      "[0.03222324 0.037886   0.10286612 0.02742823 0.19660914]\n",
      "Accuracy: 0.08 (+/- 0.13)\n"
     ]
    }
   ],
   "source": [
    "#Obtain the training score. Returns three values in a Python Dictionary as follows:\n",
    "#\t1st value:  The score array for test scores on each cv split. (Higher is an indicator of a better performing model)\n",
    "#\t2nd value: The time for fitting the estimator on the train set for each cv split.\n",
    "#\t3rd Value:  The time for scoring the estimator on the test set for each cv split. \n",
    "\n",
    "#Random Forest\n",
    "#print(cross_val_score(modelRF, X_train, y_train)) \n",
    "#scoresRF=cross_val_score(modelRF, X_train, y_train)\n",
    "#print(\"Accuracy: %0.2f (+/- %0.2f)\" % (scoresRF.mean(), scoresRF.std() * 2))\n"
   ]
  },
  {
   "cell_type": "code",
   "execution_count": 616,
   "metadata": {},
   "outputs": [
    {
     "name": "stdout",
     "output_type": "stream",
     "text": [
      "[0.08763142 0.10818548 0.20032741 0.14182487 0.10755903]\n",
      "Accuracy: 0.13 (+/- 0.08)\n"
     ]
    }
   ],
   "source": [
    "#Random Forest TUNED\n",
    "print(cross_val_score(Tuned_modelRF, X_train_scaled, y_train)) \n",
    "Tuned_scoresRF=cross_val_score(Tuned_modelRF, X_train_scaled, y_train)\n",
    "print(\"Accuracy: %0.2f (+/- %0.2f)\" % (Tuned_scoresRF.mean(), Tuned_scoresRF.std() * 2))"
   ]
  },
  {
   "cell_type": "code",
   "execution_count": 242,
   "metadata": {},
   "outputs": [
    {
     "name": "stdout",
     "output_type": "stream",
     "text": [
      "[-0.11503386 -0.06338357 -0.07286394 -0.09493846 -0.07142832]\n",
      "Accuracy: -0.08 (+/- 0.04)\n"
     ]
    }
   ],
   "source": [
    "#Support Vector Regression\n",
    "#print(cross_val_score(modelSVR, X_train, y_train)) \n",
    "#scoresSVR=cross_val_score(modelSVR, X_train, y_train)\n",
    "#print(\"Accuracy: %0.2f (+/- %0.2f)\" % (scoresSVR.mean(), scoresSVR.std() * 2))"
   ]
  },
  {
   "cell_type": "code",
   "execution_count": 642,
   "metadata": {},
   "outputs": [
    {
     "name": "stdout",
     "output_type": "stream",
     "text": [
      "[LibSVM][LibSVM][LibSVM][LibSVM][LibSVM][-0.02045057  0.04204627  0.0373918  -0.03829453  0.08756959]\n",
      "[LibSVM][LibSVM][LibSVM][LibSVM][LibSVM]Accuracy: 0.02 (+/- 0.09)\n"
     ]
    }
   ],
   "source": [
    "#Support Vector Regression TUNED\n",
    "print(cross_val_score(Tuned_modelSVR, X_train_scaled, y_train)) \n",
    "Tuned_scoresSVR=cross_val_score(Tuned_modelSVR, X_train_scaled, y_train)\n",
    "print(\"Accuracy: %0.2f (+/- %0.2f)\" % (Tuned_scoresSVR.mean(), Tuned_scoresSVR.std() * 2))"
   ]
  },
  {
   "cell_type": "code",
   "execution_count": 243,
   "metadata": {},
   "outputs": [
    {
     "name": "stdout",
     "output_type": "stream",
     "text": [
      "[0.08594653 0.01019809 0.0273099  0.11034457 0.09919767]\n",
      "Accuracy: 0.07 (+/- 0.08)\n"
     ]
    }
   ],
   "source": [
    "#Linear Regression\n",
    "#print(cross_val_score(modelLR, X_train, y_train)) \n",
    "#scoresLR=cross_val_score(modelLR, X_train, y_train)\n",
    "#print(\"Accuracy: %0.2f (+/- %0.2f)\" % (scoresLR.mean(), scoresLR.std() * 2))"
   ]
  },
  {
   "cell_type": "code",
   "execution_count": 625,
   "metadata": {},
   "outputs": [
    {
     "name": "stdout",
     "output_type": "stream",
     "text": [
      "[-0.15406175 -0.01266199  0.01291337 -0.07257975 -0.03644121]\n",
      "Accuracy: -0.05 (+/- 0.12)\n"
     ]
    }
   ],
   "source": [
    "#Linear Regression TUNED\n",
    "print(cross_val_score(Tuned_modelLR, X_train_scaled, y_train)) \n",
    "Tuned_scoresLR=cross_val_score(Tuned_modelLR, X_train_scaled, y_train)\n",
    "print(\"Accuracy: %0.2f (+/- %0.2f)\" % (Tuned_scoresLR.mean(), Tuned_scoresLR.std() * 2))"
   ]
  },
  {
   "cell_type": "code",
   "execution_count": 627,
   "metadata": {},
   "outputs": [
    {
     "data": {
      "text/plain": [
       "0.16575839422453342"
      ]
     },
     "execution_count": 627,
     "metadata": {},
     "output_type": "execute_result"
    }
   ],
   "source": [
    "#Random Forest\n",
    "#modelRF.score(X_train,y_train)\n",
    "Tuned_modelRF.score(X_train_scaled,y_train)"
   ]
  },
  {
   "cell_type": "code",
   "execution_count": 629,
   "metadata": {},
   "outputs": [
    {
     "data": {
      "text/plain": [
       "0.13157967735696974"
      ]
     },
     "execution_count": 629,
     "metadata": {},
     "output_type": "execute_result"
    }
   ],
   "source": [
    "#Support Vector Regression Model \n",
    "#modelSVR.score(X_train,y_train)\n",
    "Tuned_modelSVR.score(X_train_scaled,y_train)"
   ]
  },
  {
   "cell_type": "code",
   "execution_count": 631,
   "metadata": {},
   "outputs": [
    {
     "data": {
      "text/plain": [
       "-0.007764911403964847"
      ]
     },
     "execution_count": 631,
     "metadata": {},
     "output_type": "execute_result"
    }
   ],
   "source": [
    "#Linear Regression\n",
    "#modelLR.score(X_train,y_train)\n",
    "Tuned_modelLR.score(X_train_scaled,y_train)"
   ]
  },
  {
   "cell_type": "code",
   "execution_count": 90,
   "metadata": {},
   "outputs": [],
   "source": [
    "#Making Predictions\n",
    "#predictionsRF = modelRF.predict(X_test)\n",
    "#predictionsSVR = modelSVR.predict(X_test)\n",
    "#predictionsLR = modelLR.predict(X_test)"
   ]
  },
  {
   "cell_type": "code",
   "execution_count": 632,
   "metadata": {},
   "outputs": [],
   "source": [
    "#Making Predictions\n",
    "Tuned_predictionsRF = Tuned_modelRF.predict(X_test_scaled)\n",
    "Tuned_predictionsSVR = Tuned_modelSVR.predict(X_test_scaled)\n",
    "Tuned_predictionsLR = Tuned_modelLR.predict(X_test_scaled)"
   ]
  },
  {
   "cell_type": "code",
   "execution_count": 93,
   "metadata": {},
   "outputs": [],
   "source": [
    "#Evaluating the Results\n",
    "#RMSE is just the Square Root of MSE (mean squared error) \n",
    "#rmseRF = sqrt(mean_squared_error(y_test, predictionsRF))\n",
    "#rmseSVR = sqrt(mean_squared_error(y_test, predictionsSVR))\n",
    "#rmseLR = sqrt(mean_squared_error(y_test, predictionsLR))"
   ]
  },
  {
   "cell_type": "code",
   "execution_count": 633,
   "metadata": {},
   "outputs": [],
   "source": [
    "#Evaluating the Results\n",
    "#RMSE is just the Square Root of MSE (mean squared error) \n",
    "Tuned_rmseRF = sqrt(mean_squared_error(y_test, Tuned_predictionsRF))\n",
    "Tuned_rmseSVR = sqrt(mean_squared_error(y_test, Tuned_predictionsSVR))\n",
    "Tuned_rmseLR = sqrt(mean_squared_error(y_test, Tuned_predictionsLR))"
   ]
  },
  {
   "cell_type": "code",
   "execution_count": 94,
   "metadata": {},
   "outputs": [],
   "source": [
    "#establish a variable and use the included function, the ground truth, and the predictions to calculate R Squared \n",
    "#predRsquaredRF = r2_score(y_test,predictionsRF)\n",
    "#predRsquaredSVR = r2_score(y_test,predictionsSVR)\n",
    "#predRsquaredLR = r2_score(y_test,predictionsLR)"
   ]
  },
  {
   "cell_type": "code",
   "execution_count": 634,
   "metadata": {},
   "outputs": [],
   "source": [
    "#establish a variable and use the included function, the ground truth, and the predictions to calculate R Squared \n",
    "Tuned_predRsquaredRF = r2_score(y_test,Tuned_predictionsRF)\n",
    "Tuned_predRsquaredSVR = r2_score(y_test,Tuned_predictionsSVR)\n",
    "Tuned_predRsquaredLR = r2_score(y_test,Tuned_predictionsLR)"
   ]
  },
  {
   "cell_type": "code",
   "execution_count": 97,
   "metadata": {},
   "outputs": [
    {
     "name": "stdout",
     "output_type": "stream",
     "text": [
      "Random Forest R Squared: 0.098\n",
      "RMSE: 0.394\n",
      "Support Vector Regression R Squared: -0.081\n",
      "RMSE: 0.431\n",
      "Linear Regression R Squared: 0.080\n",
      "RMSE: 0.398\n"
     ]
    }
   ],
   "source": [
    "#print('Random Forest R Squared: %.3f' % predRsquaredRF)\n",
    "#print('RMSE: %.3f' % rmseRF)\n",
    "#print('Support Vector Regression R Squared: %.3f' % predRsquaredSVR)\n",
    "#print('RMSE: %.3f' % rmseSVR)\n",
    "#print('Linear Regression R Squared: %.3f' % predRsquaredLR)\n",
    "#print('RMSE: %.3f' % rmseLR)\n"
   ]
  },
  {
   "cell_type": "code",
   "execution_count": 635,
   "metadata": {},
   "outputs": [
    {
     "name": "stdout",
     "output_type": "stream",
     "text": [
      "Tuned Random Forest R Squared: 0.128\n",
      "RMSE: 0.381\n",
      "Tuned Support Vector Regression R Squared: 0.030\n",
      "RMSE: 0.402\n",
      "Tuned Linear Regression R Squared: -0.010\n",
      "RMSE: 0.410\n"
     ]
    }
   ],
   "source": [
    "print('Tuned Random Forest R Squared: %.3f' % Tuned_predRsquaredRF)\n",
    "print('RMSE: %.3f' % Tuned_rmseRF)\n",
    "print('Tuned Support Vector Regression R Squared: %.3f' % Tuned_predRsquaredSVR)\n",
    "print('RMSE: %.3f' % Tuned_rmseSVR)\n",
    "print('Tuned Linear Regression R Squared: %.3f' % Tuned_predRsquaredLR)\n",
    "print('RMSE: %.3f' % Tuned_rmseLR)\n"
   ]
  },
  {
   "cell_type": "code",
   "execution_count": 112,
   "metadata": {},
   "outputs": [
    {
     "data": {
      "image/png": "[encoded data removed]",
      "text/plain": [
       "<Figure size 432x288 with 1 Axes>"
      ]
     },
     "metadata": {
      "needs_background": "light"
     },
     "output_type": "display_data"
    }
   ],
   "source": [
    "#Plotting the Results (scatter plot) \n",
    "#plt.scatter(y_test, predictionsRF, alpha = 0.5)\n",
    "#plt.title('Random Forest')\n",
    "#plt.xlabel('Ground Truth')\n",
    "#plt.ylabel('Predictions')\n",
    "#plt.show();"
   ]
  },
  {
   "cell_type": "code",
   "execution_count": 636,
   "metadata": {},
   "outputs": [
    {
     "data": {
      "image/png": "[encoded data removed]",
      "text/plain": [
       "<Figure size 432x288 with 1 Axes>"
      ]
     },
     "metadata": {
      "needs_background": "light"
     },
     "output_type": "display_data"
    }
   ],
   "source": [
    "#Plotting the Results (scatter plot) \n",
    "plt.scatter(y_test, Tuned_predictionsRF, alpha = 0.5)\n",
    "plt.title('Tuned Random Forest')\n",
    "plt.xlabel('Ground Truth')\n",
    "plt.ylabel('Predictions')\n",
    "plt.show();"
   ]
  },
  {
   "cell_type": "code",
   "execution_count": 110,
   "metadata": {},
   "outputs": [
    {
     "data": {
      "image/png": "[encoded data removed]",
      "text/plain": [
       "<Figure size 432x288 with 1 Axes>"
      ]
     },
     "metadata": {
      "needs_background": "light"
     },
     "output_type": "display_data"
    }
   ],
   "source": [
    "#Plotting the Results (scatter plot) \n",
    "#plt.scatter(y_test, predictionsSVR, alpha = 0.5)\n",
    "#plt.title('Support Vector Regression')\n",
    "#plt.xlabel('Ground Truth')\n",
    "#plt.ylabel('Predictions')\n",
    "#plt.show();"
   ]
  },
  {
   "cell_type": "code",
   "execution_count": 637,
   "metadata": {},
   "outputs": [
    {
     "data": {
      "image/png": "[encoded data removed]",
      "text/plain": [
       "<Figure size 432x288 with 1 Axes>"
      ]
     },
     "metadata": {
      "needs_background": "light"
     },
     "output_type": "display_data"
    }
   ],
   "source": [
    "#Plotting the Results (scatter plot) \n",
    "plt.scatter(y_test, Tuned_predictionsSVR, alpha = 0.5)\n",
    "plt.title('Tuned Support Vector Regression')\n",
    "plt.xlabel('Ground Truth')\n",
    "plt.ylabel('Predictions')\n",
    "plt.show();"
   ]
  },
  {
   "cell_type": "code",
   "execution_count": 111,
   "metadata": {
    "scrolled": true
   },
   "outputs": [
    {
     "data": {
      "image/png": "[encoded data removed]",
      "text/plain": [
       "<Figure size 432x288 with 1 Axes>"
      ]
     },
     "metadata": {
      "needs_background": "light"
     },
     "output_type": "display_data"
    }
   ],
   "source": [
    "#Plotting the Results (scatter plot) \n",
    "#plt.scatter(y_test, predictionsLR, alpha = 0.5)\n",
    "#plt.title('Linear Regression')\n",
    "#plt.xlabel('Ground Truth')\n",
    "#plt.ylabel('Predictions')\n",
    "#plt.show();"
   ]
  },
  {
   "cell_type": "code",
   "execution_count": 638,
   "metadata": {},
   "outputs": [
    {
     "data": {
      "image/png": "[encoded data removed]",
      "text/plain": [
       "<Figure size 432x288 with 1 Axes>"
      ]
     },
     "metadata": {
      "needs_background": "light"
     },
     "output_type": "display_data"
    }
   ],
   "source": [
    "#Plotting the Results (scatter plot) \n",
    "plt.scatter(y_test, Tuned_predictionsLR, alpha = 0.5)\n",
    "plt.title('Tuned Linear Regression')\n",
    "plt.xlabel('Ground Truth')\n",
    "plt.ylabel('Predictions')\n",
    "plt.show();"
   ]
  },
  {
   "cell_type": "code",
   "execution_count": 121,
   "metadata": {},
   "outputs": [
    {
     "name": "stdout",
     "output_type": "stream",
     "text": [
      "<class 'pandas.core.frame.DataFrame'>\n",
      "RangeIndex: 30000 entries, 0 to 29999\n",
      "Data columns (total 24 columns):\n",
      " #   Column                       Non-Null Count  Dtype\n",
      "---  ------                       --------------  -----\n",
      " 0   X1LIMIT_BAL                  30000 non-null  int64\n",
      " 1   X2SEX                        30000 non-null  int64\n",
      " 2   X3EDUCATION                  30000 non-null  int64\n",
      " 3   X4MARRIAGE                   30000 non-null  int64\n",
      " 4   X5AGE                        30000 non-null  int64\n",
      " 5   X6PAY_0                      30000 non-null  int64\n",
      " 6   X7PAY_2                      30000 non-null  int64\n",
      " 7   X8PAY_3                      30000 non-null  int64\n",
      " 8   X9PAY_4                      30000 non-null  int64\n",
      " 9   X10PAY_5                     30000 non-null  int64\n",
      " 10  X11PAY_6                     30000 non-null  int64\n",
      " 11  X12BILL_AMT1                 30000 non-null  int64\n",
      " 12  X13BILL_AMT2                 30000 non-null  int64\n",
      " 13  X14BILL_AMT3                 30000 non-null  int64\n",
      " 14  X15BILL_AMT4                 30000 non-null  int64\n",
      " 15  X16BILL_AMT5                 30000 non-null  int64\n",
      " 16  X17BILL_AMT6                 30000 non-null  int64\n",
      " 17  X18PAY_AMT1                  30000 non-null  int64\n",
      " 18  X19PAY_AMT2                  30000 non-null  int64\n",
      " 19  X20PAY_AMT3                  30000 non-null  int64\n",
      " 20  X21PAY_AMT4                  30000 non-null  int64\n",
      " 21  X22PAY_AMT5                  30000 non-null  int64\n",
      " 22  X23PAY_AMT6                  30000 non-null  int64\n",
      " 23  Ydefault_payment_next_month  30000 non-null  int64\n",
      "dtypes: int64(24)\n",
      "memory usage: 5.5 MB\n"
     ]
    }
   ],
   "source": [
    "rawData.info()\n"
   ]
  },
  {
   "cell_type": "code",
   "execution_count": 660,
   "metadata": {},
   "outputs": [
    {
     "name": "stdout",
     "output_type": "stream",
     "text": [
      "Summary of feature sample\n"
     ]
    },
    {
     "data": {
      "text/html": [
       "<div>\n",
       "<style scoped>\n",
       "    .dataframe tbody tr th:only-of-type {\n",
       "        vertical-align: middle;\n",
       "    }\n",
       "\n",
       "    .dataframe tbody tr th {\n",
       "        vertical-align: top;\n",
       "    }\n",
       "\n",
       "    .dataframe thead th {\n",
       "        text-align: right;\n",
       "    }\n",
       "</style>\n",
       "<table border=\"1\" class=\"dataframe\">\n",
       "  <thead>\n",
       "    <tr style=\"text-align: right;\">\n",
       "      <th></th>\n",
       "      <th>X1LIMIT_BAL</th>\n",
       "      <th>X2SEX</th>\n",
       "      <th>X3EDUCATION</th>\n",
       "      <th>X4MARRIAGE</th>\n",
       "      <th>X5AGE</th>\n",
       "      <th>X6PAY_0</th>\n",
       "      <th>X7PAY_2</th>\n",
       "      <th>X8PAY_3</th>\n",
       "      <th>X9PAY_4</th>\n",
       "      <th>X10PAY_5</th>\n",
       "      <th>X11PAY_6</th>\n",
       "      <th>X12BILL_AMT1</th>\n",
       "      <th>X13BILL_AMT2</th>\n",
       "      <th>X15BILL_AMT4</th>\n",
       "      <th>X17BILL_AMT6</th>\n",
       "      <th>X18PAY_AMT1</th>\n",
       "      <th>X19PAY_AMT2</th>\n",
       "      <th>X21PAY_AMT4</th>\n",
       "      <th>X22PAY_AMT5</th>\n",
       "      <th>X23PAY_AMT6</th>\n",
       "    </tr>\n",
       "  </thead>\n",
       "  <tbody>\n",
       "    <tr>\n",
       "      <th>0</th>\n",
       "      <td>20000</td>\n",
       "      <td>2</td>\n",
       "      <td>2</td>\n",
       "      <td>1</td>\n",
       "      <td>24</td>\n",
       "      <td>2</td>\n",
       "      <td>2</td>\n",
       "      <td>-1</td>\n",
       "      <td>-1</td>\n",
       "      <td>-2</td>\n",
       "      <td>-2</td>\n",
       "      <td>3913</td>\n",
       "      <td>3102</td>\n",
       "      <td>0</td>\n",
       "      <td>0</td>\n",
       "      <td>0</td>\n",
       "      <td>689</td>\n",
       "      <td>0</td>\n",
       "      <td>0</td>\n",
       "      <td>0</td>\n",
       "    </tr>\n",
       "    <tr>\n",
       "      <th>1</th>\n",
       "      <td>120000</td>\n",
       "      <td>2</td>\n",
       "      <td>2</td>\n",
       "      <td>2</td>\n",
       "      <td>26</td>\n",
       "      <td>-1</td>\n",
       "      <td>2</td>\n",
       "      <td>0</td>\n",
       "      <td>0</td>\n",
       "      <td>0</td>\n",
       "      <td>2</td>\n",
       "      <td>2682</td>\n",
       "      <td>1725</td>\n",
       "      <td>3272</td>\n",
       "      <td>3261</td>\n",
       "      <td>0</td>\n",
       "      <td>1000</td>\n",
       "      <td>1000</td>\n",
       "      <td>0</td>\n",
       "      <td>2000</td>\n",
       "    </tr>\n",
       "    <tr>\n",
       "      <th>2</th>\n",
       "      <td>90000</td>\n",
       "      <td>2</td>\n",
       "      <td>2</td>\n",
       "      <td>2</td>\n",
       "      <td>34</td>\n",
       "      <td>0</td>\n",
       "      <td>0</td>\n",
       "      <td>0</td>\n",
       "      <td>0</td>\n",
       "      <td>0</td>\n",
       "      <td>0</td>\n",
       "      <td>29239</td>\n",
       "      <td>14027</td>\n",
       "      <td>14331</td>\n",
       "      <td>15549</td>\n",
       "      <td>1518</td>\n",
       "      <td>1500</td>\n",
       "      <td>1000</td>\n",
       "      <td>1000</td>\n",
       "      <td>5000</td>\n",
       "    </tr>\n",
       "    <tr>\n",
       "      <th>3</th>\n",
       "      <td>50000</td>\n",
       "      <td>2</td>\n",
       "      <td>2</td>\n",
       "      <td>1</td>\n",
       "      <td>37</td>\n",
       "      <td>0</td>\n",
       "      <td>0</td>\n",
       "      <td>0</td>\n",
       "      <td>0</td>\n",
       "      <td>0</td>\n",
       "      <td>0</td>\n",
       "      <td>46990</td>\n",
       "      <td>48233</td>\n",
       "      <td>28314</td>\n",
       "      <td>29547</td>\n",
       "      <td>2000</td>\n",
       "      <td>2019</td>\n",
       "      <td>1100</td>\n",
       "      <td>1069</td>\n",
       "      <td>1000</td>\n",
       "    </tr>\n",
       "    <tr>\n",
       "      <th>4</th>\n",
       "      <td>50000</td>\n",
       "      <td>1</td>\n",
       "      <td>2</td>\n",
       "      <td>1</td>\n",
       "      <td>57</td>\n",
       "      <td>-1</td>\n",
       "      <td>0</td>\n",
       "      <td>-1</td>\n",
       "      <td>0</td>\n",
       "      <td>0</td>\n",
       "      <td>0</td>\n",
       "      <td>8617</td>\n",
       "      <td>5670</td>\n",
       "      <td>20940</td>\n",
       "      <td>19131</td>\n",
       "      <td>2000</td>\n",
       "      <td>36681</td>\n",
       "      <td>9000</td>\n",
       "      <td>689</td>\n",
       "      <td>679</td>\n",
       "    </tr>\n",
       "  </tbody>\n",
       "</table>\n",
       "</div>"
      ],
      "text/plain": [
       "   X1LIMIT_BAL  X2SEX  X3EDUCATION  X4MARRIAGE  X5AGE  X6PAY_0  X7PAY_2  \\\n",
       "0        20000      2            2           1     24        2        2   \n",
       "1       120000      2            2           2     26       -1        2   \n",
       "2        90000      2            2           2     34        0        0   \n",
       "3        50000      2            2           1     37        0        0   \n",
       "4        50000      1            2           1     57       -1        0   \n",
       "\n",
       "   X8PAY_3  X9PAY_4  X10PAY_5  X11PAY_6  X12BILL_AMT1  X13BILL_AMT2  \\\n",
       "0       -1       -1        -2        -2          3913          3102   \n",
       "1        0        0         0         2          2682          1725   \n",
       "2        0        0         0         0         29239         14027   \n",
       "3        0        0         0         0         46990         48233   \n",
       "4       -1        0         0         0          8617          5670   \n",
       "\n",
       "   X15BILL_AMT4  X17BILL_AMT6  X18PAY_AMT1  X19PAY_AMT2  X21PAY_AMT4  \\\n",
       "0             0             0            0          689            0   \n",
       "1          3272          3261            0         1000         1000   \n",
       "2         14331         15549         1518         1500         1000   \n",
       "3         28314         29547         2000         2019         1100   \n",
       "4         20940         19131         2000        36681         9000   \n",
       "\n",
       "   X22PAY_AMT5  X23PAY_AMT6  \n",
       "0            0            0  \n",
       "1            0         2000  \n",
       "2         1000         5000  \n",
       "3         1069         1000  \n",
       "4          689          679  "
      ]
     },
     "execution_count": 660,
     "metadata": {},
     "output_type": "execute_result"
    }
   ],
   "source": [
    "#RFE (Recursive Feature Elimination)\n",
    "#featuresRFE=('X1LIMIT_BAL', 'X2SEX', 'X3EDUCATION', 'X4MARRIAGE', 'X5AGE', 'X6PAY_0', 'X7PAY_2', 'X8PAY_3', 'X9PAY_4', \n",
    "#             'X10PAY_5', 'X11PAY_6', 'X12BILL_AMT1', 'X13BILL_AMT2', 'X15BILL_AMT4', 'X17BILL_AMT6', 'X18PAY_AMT1', \n",
    "#             'X19PAY_AMT2', 'X21PAY_AMT4', 'X22PAY_AMT5', 'X23PAY_AMT6')\n",
    "#locationsRFE=(0:13, 14, 16:19, 20:23)\n",
    "#1. Select the features\n",
    "#variableName = dataframe.iloc[:,0:4]\n",
    "#features\n",
    "featuresRFE = rawData[['X1LIMIT_BAL', 'X2SEX', 'X3EDUCATION', 'X4MARRIAGE', 'X5AGE', 'X6PAY_0', 'X7PAY_2', 'X8PAY_3', 'X9PAY_4', 'X10PAY_5', 'X11PAY_6', 'X12BILL_AMT1', 'X13BILL_AMT2', 'X15BILL_AMT4', 'X17BILL_AMT6', 'X18PAY_AMT1', 'X19PAY_AMT2', 'X21PAY_AMT4', 'X22PAY_AMT5', 'X23PAY_AMT6']]\n",
    "print('Summary of feature sample')\n",
    "featuresRFE.head()\n"
   ]
  },
  {
   "cell_type": "code",
   "execution_count": 661,
   "metadata": {},
   "outputs": [
    {
     "data": {
      "text/plain": [
       "<bound method DataFrame.count of        X1LIMIT_BAL  X2SEX  X3EDUCATION  X4MARRIAGE  X5AGE  X6PAY_0  X7PAY_2  \\\n",
       "0            20000      2            2           1     24        2        2   \n",
       "1           120000      2            2           2     26       -1        2   \n",
       "2            90000      2            2           2     34        0        0   \n",
       "3            50000      2            2           1     37        0        0   \n",
       "4            50000      1            2           1     57       -1        0   \n",
       "...            ...    ...          ...         ...    ...      ...      ...   \n",
       "29995       220000      1            3           1     39        0        0   \n",
       "29996       150000      1            3           2     43       -1       -1   \n",
       "29997        30000      1            2           2     37        4        3   \n",
       "29998        80000      1            3           1     41        1       -1   \n",
       "29999        50000      1            2           1     46        0        0   \n",
       "\n",
       "       X8PAY_3  X9PAY_4  X10PAY_5  ...  X15BILL_AMT4  X16BILL_AMT5  \\\n",
       "0           -1       -1        -2  ...             0             0   \n",
       "1            0        0         0  ...          3272          3455   \n",
       "2            0        0         0  ...         14331         14948   \n",
       "3            0        0         0  ...         28314         28959   \n",
       "4           -1        0         0  ...         20940         19146   \n",
       "...        ...      ...       ...  ...           ...           ...   \n",
       "29995        0        0         0  ...         88004         31237   \n",
       "29996       -1       -1         0  ...          8979          5190   \n",
       "29997        2       -1         0  ...         20878         20582   \n",
       "29998        0        0         0  ...         52774         11855   \n",
       "29999        0        0         0  ...         36535         32428   \n",
       "\n",
       "       X17BILL_AMT6  X18PAY_AMT1  X19PAY_AMT2  X20PAY_AMT3  X21PAY_AMT4  \\\n",
       "0                 0            0          689            0            0   \n",
       "1              3261            0         1000         1000         1000   \n",
       "2             15549         1518         1500         1000         1000   \n",
       "3             29547         2000         2019         1200         1100   \n",
       "4             19131         2000        36681        10000         9000   \n",
       "...             ...          ...          ...          ...          ...   \n",
       "29995         15980         8500        20000         5003         3047   \n",
       "29996             0         1837         3526         8998          129   \n",
       "29997         19357            0            0        22000         4200   \n",
       "29998         48944        85900         3409         1178         1926   \n",
       "29999         15313         2078         1800         1430         1000   \n",
       "\n",
       "       X22PAY_AMT5  X23PAY_AMT6  Ydefault_payment_next_month  \n",
       "0                0            0                            1  \n",
       "1                0         2000                            1  \n",
       "2             1000         5000                            0  \n",
       "3             1069         1000                            0  \n",
       "4              689          679                            0  \n",
       "...            ...          ...                          ...  \n",
       "29995         5000         1000                            0  \n",
       "29996            0            0                            0  \n",
       "29997         2000         3100                            1  \n",
       "29998        52964         1804                            1  \n",
       "29999         1000         1000                            1  \n",
       "\n",
       "[30000 rows x 24 columns]>"
      ]
     },
     "execution_count": 661,
     "metadata": {},
     "output_type": "execute_result"
    }
   ],
   "source": [
    "#2. Select the Dependent Variable\n",
    "\n",
    "#dependent variable\n",
    "depVar = rawData['Ydefault_payment_next_month']\n",
    "\n",
    "rawData.count"
   ]
  },
  {
   "cell_type": "code",
   "execution_count": 662,
   "metadata": {},
   "outputs": [],
   "source": [
    "#3. Establish the training set for the X-variables or Feature space (70/30 split)\n",
    "\n",
    "#Training Set (Feature Space: X Training)\n",
    "X_trainRFE = (featuresRFE[: 2100])\n",
    "#X_trainRFE.head()"
   ]
  },
  {
   "cell_type": "code",
   "execution_count": 663,
   "metadata": {},
   "outputs": [
    {
     "data": {
      "text/plain": [
       "RobustScaler(copy=True, quantile_range=(25.0, 75.0), with_centering=True,\n",
       "             with_scaling=True)"
      ]
     },
     "execution_count": 663,
     "metadata": {},
     "output_type": "execute_result"
    }
   ],
   "source": [
    "#If your data contains many outliers, scaling using the mean and variance of the data is likely to not work very well. \n",
    "#In these cases, you can use robust_scale and RobustScaler as drop-in replacements instead. They use more robust estimates for the center and range of your data.\n",
    "scalerRFE = preprocessing.RobustScaler().fit(X_trainRFE)\n",
    "scalerRFE"
   ]
  },
  {
   "cell_type": "code",
   "execution_count": 664,
   "metadata": {},
   "outputs": [
    {
     "data": {
      "text/plain": [
       "(2100, 20)"
      ]
     },
     "execution_count": 664,
     "metadata": {},
     "output_type": "execute_result"
    }
   ],
   "source": [
    "X_trainRFE_scaled=scalerRFE.transform(X_trainRFE)\n",
    "X_trainRFE_scaled.shape"
   ]
  },
  {
   "cell_type": "code",
   "execution_count": 665,
   "metadata": {},
   "outputs": [
    {
     "data": {
      "text/plain": [
       "(2100, 20)"
      ]
     },
     "execution_count": 665,
     "metadata": {},
     "output_type": "execute_result"
    }
   ],
   "source": [
    "X_scaledRFE = preprocessing.robust_scale(X_trainRFE)\n",
    "X_scaledRFE.shape"
   ]
  },
  {
   "cell_type": "code",
   "execution_count": 666,
   "metadata": {},
   "outputs": [
    {
     "name": "stdout",
     "output_type": "stream",
     "text": [
      "The number of observations in the Y training set are: 2100\n"
     ]
    },
    {
     "data": {
      "text/plain": [
       "0    1\n",
       "1    1\n",
       "2    0\n",
       "3    0\n",
       "4    0\n",
       "Name: Ydefault_payment_next_month, dtype: int64"
      ]
     },
     "execution_count": 666,
     "metadata": {},
     "output_type": "execute_result"
    }
   ],
   "source": [
    "#4. Establish the training set for the Y-variable or dependent variable (the number of rows much match the X-training set)\n",
    "\n",
    "#Dependent Variable Training Set (y Training)\n",
    "y_train = depVar[: 2100]\n",
    "y_train_count = len(y_train.index)\n",
    "print('The number of observations in the Y training set are:',str(y_train_count))\n",
    "y_train.head()"
   ]
  },
  {
   "cell_type": "code",
   "execution_count": 667,
   "metadata": {},
   "outputs": [
    {
     "name": "stdout",
     "output_type": "stream",
     "text": [
      "The number of observations in the feature testing set is: 900\n",
      "       X1LIMIT_BAL  X2SEX  X3EDUCATION  X4MARRIAGE  X5AGE  X6PAY_0  X7PAY_2  \\\n",
      "29100       320000      2            3           1     52       -2       -2   \n",
      "29101        80000      2            2           2     56        0        0   \n",
      "29102       180000      2            2           1     58       -2       -2   \n",
      "29103        60000      2            2           2     51        0        0   \n",
      "29104       440000      2            1           1     54        0        0   \n",
      "\n",
      "       X8PAY_3  X9PAY_4  X10PAY_5  X11PAY_6  X12BILL_AMT1  X13BILL_AMT2  \\\n",
      "29100       -2       -2        -2        -2           650          2080   \n",
      "29101        0        0         0         0         49350         49533   \n",
      "29102       -2       -2        -2        -2             0             0   \n",
      "29103        0        0         0         0         38788         18251   \n",
      "29104        0        0         0         0        293717        254498   \n",
      "\n",
      "       X15BILL_AMT4  X17BILL_AMT6  X18PAY_AMT1  X19PAY_AMT2  X21PAY_AMT4  \\\n",
      "29100             0             0         2080          218         2355   \n",
      "29101         50415         43152         2000         2000         2007   \n",
      "29102          1576             0            0          750         1504   \n",
      "29103         19033         23530         2065         2000         2000   \n",
      "29104        169140        138447         9700         6323         4800   \n",
      "\n",
      "       X22PAY_AMT5  X23PAY_AMT6  \n",
      "29100            0            0  \n",
      "29101         1600         1900  \n",
      "29102            0         1000  \n",
      "29103         3000         3000  \n",
      "29104         4000         4500  \n"
     ]
    }
   ],
   "source": [
    "#5. Establish the testing set for the X-Variables or Feature space\n",
    "\n",
    "#Testing Set (X Testing)\n",
    "X_testRFE = featuresRFE[-900:]\n",
    "X_test_countRFE = len(X_testRFE.index)\n",
    "print('The number of observations in the feature testing set is:',str(X_test_countRFE))\n",
    "print(X_testRFE.head())"
   ]
  },
  {
   "cell_type": "code",
   "execution_count": 668,
   "metadata": {},
   "outputs": [
    {
     "data": {
      "text/plain": [
       "(900, 20)"
      ]
     },
     "execution_count": 668,
     "metadata": {},
     "output_type": "execute_result"
    }
   ],
   "source": [
    "X_testRFE_scaled=scalerRFE.transform(X_testRFE)\n",
    "X_testRFE_scaled.shape"
   ]
  },
  {
   "cell_type": "code",
   "execution_count": 669,
   "metadata": {},
   "outputs": [
    {
     "name": "stdout",
     "output_type": "stream",
     "text": [
      "The number of observations in the Y training set are: 900\n"
     ]
    },
    {
     "data": {
      "text/plain": [
       "29100    0\n",
       "29101    0\n",
       "29102    0\n",
       "29103    0\n",
       "29104    0\n",
       "Name: Ydefault_payment_next_month, dtype: int64"
      ]
     },
     "execution_count": 669,
     "metadata": {},
     "output_type": "execute_result"
    }
   ],
   "source": [
    "#6. Establish Ground truth \n",
    "\n",
    "#Ground Truth (y_test) \n",
    "y_test = depVar[-900:]\n",
    "y_test_count = len(y_test.index)\n",
    "print('The number of observations in the Y training set are:',str(y_test_count))\n",
    "y_test.head()"
   ]
  },
  {
   "cell_type": "code",
   "execution_count": 670,
   "metadata": {},
   "outputs": [],
   "source": [
    "#Cross Validation to help prevent overfitting. In Sci-Kit Learn there is a pre-built function (sklearn.cross_validation)\n",
    "#X_trainRFE, X_testRFE, y_train, y_test = train_test_split(X_trainRFE, y_train)\n",
    "#X_trainRFE.shape, X_testRFE.shape"
   ]
  },
  {
   "cell_type": "code",
   "execution_count": 671,
   "metadata": {},
   "outputs": [
    {
     "data": {
      "text/plain": [
       "((1575, 20), (525, 20))"
      ]
     },
     "execution_count": 671,
     "metadata": {},
     "output_type": "execute_result"
    }
   ],
   "source": [
    "#Cross Validation to help prevent overfitting. In Sci-Kit Learn there is a pre-built function (sklearn.cross_validation)\n",
    "X_trainRFE_scaled, X_testRFE_scaled, y_train, y_test = train_test_split(X_trainRFE_scaled, y_train)\n",
    "X_trainRFE_scaled.shape, X_testRFE_scaled.shape"
   ]
  },
  {
   "cell_type": "code",
   "execution_count": 135,
   "metadata": {},
   "outputs": [],
   "source": [
    "#Building the model\n",
    "#3 different Models\n",
    "#RFEmodelSVR = SVR()\n",
    "#RFEmodelRF = RandomForestRegressor()\n",
    "#RFEmodelLR = LinearRegression()"
   ]
  },
  {
   "cell_type": "code",
   "execution_count": 672,
   "metadata": {},
   "outputs": [],
   "source": [
    "#Building the model\n",
    "#3 different Models\n",
    "Tuned_RFEmodelSVR = SVR(verbose=True, cache_size=512)\n",
    "Tuned_RFEmodelRF = RandomForestRegressor(max_depth=2, random_state=0)\n",
    "Tuned_RFEmodelLR = LinearRegression(n_jobs=4, fit_intercept=False)"
   ]
  },
  {
   "cell_type": "code",
   "execution_count": 136,
   "metadata": {},
   "outputs": [
    {
     "data": {
      "text/plain": [
       "RandomForestRegressor(bootstrap=True, ccp_alpha=0.0, criterion='mse',\n",
       "                      max_depth=None, max_features='auto', max_leaf_nodes=None,\n",
       "                      max_samples=None, min_impurity_decrease=0.0,\n",
       "                      min_impurity_split=None, min_samples_leaf=1,\n",
       "                      min_samples_split=2, min_weight_fraction_leaf=0.0,\n",
       "                      n_estimators=100, n_jobs=None, oob_score=False,\n",
       "                      random_state=None, verbose=0, warm_start=False)"
      ]
     },
     "execution_count": 136,
     "metadata": {},
     "output_type": "execute_result"
    }
   ],
   "source": [
    "#6. Random Forest\n",
    "#RFEmodelRF.fit(X_trainRFE,y_train)"
   ]
  },
  {
   "cell_type": "code",
   "execution_count": 673,
   "metadata": {},
   "outputs": [
    {
     "data": {
      "text/plain": [
       "RandomForestRegressor(bootstrap=True, ccp_alpha=0.0, criterion='mse',\n",
       "                      max_depth=2, max_features='auto', max_leaf_nodes=None,\n",
       "                      max_samples=None, min_impurity_decrease=0.0,\n",
       "                      min_impurity_split=None, min_samples_leaf=1,\n",
       "                      min_samples_split=2, min_weight_fraction_leaf=0.0,\n",
       "                      n_estimators=100, n_jobs=None, oob_score=False,\n",
       "                      random_state=0, verbose=0, warm_start=False)"
      ]
     },
     "execution_count": 673,
     "metadata": {},
     "output_type": "execute_result"
    }
   ],
   "source": [
    "#6. Random Forest\n",
    "Tuned_RFEmodelRF.fit(X_trainRFE_scaled,y_train)"
   ]
  },
  {
   "cell_type": "code",
   "execution_count": 137,
   "metadata": {},
   "outputs": [
    {
     "data": {
      "text/plain": [
       "SVR(C=1.0, cache_size=200, coef0=0.0, degree=3, epsilon=0.1, gamma='scale',\n",
       "    kernel='rbf', max_iter=-1, shrinking=True, tol=0.001, verbose=False)"
      ]
     },
     "execution_count": 137,
     "metadata": {},
     "output_type": "execute_result"
    }
   ],
   "source": [
    "#7. Support Vector Regression\n",
    "#RFEmodelSVR.fit(X_trainRFE,y_train)"
   ]
  },
  {
   "cell_type": "code",
   "execution_count": 674,
   "metadata": {},
   "outputs": [
    {
     "name": "stdout",
     "output_type": "stream",
     "text": [
      "[LibSVM]"
     ]
    },
    {
     "data": {
      "text/plain": [
       "SVR(C=1.0, cache_size=512, coef0=0.0, degree=3, epsilon=0.1, gamma='scale',\n",
       "    kernel='rbf', max_iter=-1, shrinking=True, tol=0.001, verbose=True)"
      ]
     },
     "execution_count": 674,
     "metadata": {},
     "output_type": "execute_result"
    }
   ],
   "source": [
    "#7. Support Vector Regression\n",
    "Tuned_RFEmodelSVR.fit(X_trainRFE_scaled,y_train)"
   ]
  },
  {
   "cell_type": "code",
   "execution_count": 138,
   "metadata": {},
   "outputs": [
    {
     "data": {
      "text/plain": [
       "LinearRegression(copy_X=True, fit_intercept=True, n_jobs=None, normalize=False)"
      ]
     },
     "execution_count": 138,
     "metadata": {},
     "output_type": "execute_result"
    }
   ],
   "source": [
    "#8. Linear Regression\n",
    "#RFEmodelLR.fit(X_trainRFE,y_train)"
   ]
  },
  {
   "cell_type": "code",
   "execution_count": 675,
   "metadata": {},
   "outputs": [
    {
     "data": {
      "text/plain": [
       "LinearRegression(copy_X=True, fit_intercept=False, n_jobs=4, normalize=False)"
      ]
     },
     "execution_count": 675,
     "metadata": {},
     "output_type": "execute_result"
    }
   ],
   "source": [
    "#8. Linear Regression\n",
    "Tuned_RFEmodelLR.fit(X_trainRFE_scaled,y_train)"
   ]
  },
  {
   "cell_type": "code",
   "execution_count": 165,
   "metadata": {},
   "outputs": [
    {
     "name": "stdout",
     "output_type": "stream",
     "text": [
      "[0.11157225 0.09582732 0.0636994  0.14589266 0.15581893]\n",
      "Accuracy: 0.11 (+/- 0.05)\n"
     ]
    }
   ],
   "source": [
    "#Obtain the training score. Returns three values in a Python Dictionary as follows:\n",
    "#\t1st value:  The score array for test scores on each cv split. (Higher is an indicator of a better performing model)\n",
    "#\t2nd value: The time for fitting the estimator on the train set for each cv split.\n",
    "#\t3rd Value:  The time for scoring the estimator on the test set for each cv split. \n",
    "#Array of scores of the estimator for each run of the cross validation.\n",
    "#Random Forest\n",
    "\n",
    "#print(cross_val_score(RFEmodelRF, X_trainRFE, y_train))\n",
    "#RFEscoresRF=cross_val_score(RFEmodelRF, X_trainRFE, y_train)\n",
    "#print(\"Accuracy: %0.2f (+/- %0.2f)\" % (RFEscoresRF.mean(), RFEscoresRF.std() * 2))"
   ]
  },
  {
   "cell_type": "code",
   "execution_count": 676,
   "metadata": {},
   "outputs": [
    {
     "name": "stdout",
     "output_type": "stream",
     "text": [
      "[0.17439037 0.19636068 0.11777519 0.09743617 0.08164543]\n",
      "Accuracy: 0.13 (+/- 0.09)\n"
     ]
    }
   ],
   "source": [
    "print(cross_val_score(Tuned_RFEmodelRF, X_trainRFE_scaled, y_train))\n",
    "Tuned_RFEscoresRF=cross_val_score(Tuned_RFEmodelRF, X_trainRFE_scaled, y_train)\n",
    "print(\"Accuracy: %0.2f (+/- %0.2f)\" % (Tuned_RFEscoresRF.mean(), Tuned_RFEscoresRF.std() * 2))"
   ]
  },
  {
   "cell_type": "code",
   "execution_count": 166,
   "metadata": {},
   "outputs": [
    {
     "name": "stdout",
     "output_type": "stream",
     "text": [
      "[-0.10969369 -0.09714334 -0.06362391 -0.07095832 -0.08280358]\n",
      "Accuracy: -0.08 (+/- 0.03)\n"
     ]
    }
   ],
   "source": [
    "#Support Vector Regression\n",
    "#print(cross_val_score(RFEmodelSVR, X_trainRFE, y_train))\n",
    "#RFEscoresSVR=cross_val_score(RFEmodelSVR, X_trainRFE, y_train)\n",
    "#print(\"Accuracy: %0.2f (+/- %0.2f)\" % (RFEscoresSVR.mean(), RFEscoresSVR.std() * 2))"
   ]
  },
  {
   "cell_type": "code",
   "execution_count": 677,
   "metadata": {},
   "outputs": [
    {
     "name": "stdout",
     "output_type": "stream",
     "text": [
      "[LibSVM][LibSVM][LibSVM][LibSVM][LibSVM][0.08297637 0.1025383  0.00328967 0.01242938 0.08636755]\n",
      "[LibSVM][LibSVM][LibSVM][LibSVM][LibSVM]Accuracy: 0.06 (+/- 0.08)\n"
     ]
    }
   ],
   "source": [
    "#Support Vector Regression\n",
    "print(cross_val_score(Tuned_RFEmodelSVR, X_trainRFE_scaled, y_train))\n",
    "Tuned_RFEscoresSVR=cross_val_score(Tuned_RFEmodelSVR, X_trainRFE_scaled, y_train)\n",
    "print(\"Accuracy: %0.2f (+/- %0.2f)\" % (Tuned_RFEscoresSVR.mean(), Tuned_RFEscoresSVR.std() * 2))"
   ]
  },
  {
   "cell_type": "code",
   "execution_count": 167,
   "metadata": {},
   "outputs": [
    {
     "name": "stdout",
     "output_type": "stream",
     "text": [
      "[0.05453404 0.06807813 0.03244369 0.115355   0.1312525 ]\n",
      "Accuracy: 0.08 (+/- 0.07)\n"
     ]
    }
   ],
   "source": [
    "#Linear Regression\n",
    "#print(cross_val_score(RFEmodelLR, X_trainRFE, y_train))\n",
    "#RFEscoresLR=cross_val_score(RFEmodelLR, X_trainRFE, y_train)\n",
    "#print(\"Accuracy: %0.2f (+/- %0.2f)\" % (RFEscoresLR.mean(), RFEscoresLR.std() * 2))"
   ]
  },
  {
   "cell_type": "code",
   "execution_count": 678,
   "metadata": {},
   "outputs": [
    {
     "name": "stdout",
     "output_type": "stream",
     "text": [
      "[-0.02845627  0.0142889  -0.09056018 -0.0478506  -0.06476984]\n",
      "Accuracy: -0.04 (+/- 0.07)\n"
     ]
    }
   ],
   "source": [
    "#Linear Regression\n",
    "print(cross_val_score(Tuned_RFEmodelLR, X_trainRFE_scaled, y_train))\n",
    "Tuned_RFEscoresLR=cross_val_score(Tuned_RFEmodelLR, X_trainRFE_scaled, y_train)\n",
    "print(\"Accuracy: %0.2f (+/- %0.2f)\" % (Tuned_RFEscoresLR.mean(), Tuned_RFEscoresLR.std() * 2))"
   ]
  },
  {
   "cell_type": "code",
   "execution_count": 679,
   "metadata": {},
   "outputs": [
    {
     "data": {
      "text/plain": [
       "0.15600606874318146"
      ]
     },
     "execution_count": 679,
     "metadata": {},
     "output_type": "execute_result"
    }
   ],
   "source": [
    "#Random Forest\n",
    "#RFEmodelRF.score(X_trainRFE,y_train)\n",
    "Tuned_RFEmodelRF.score(X_trainRFE_scaled,y_train)"
   ]
  },
  {
   "cell_type": "code",
   "execution_count": 680,
   "metadata": {},
   "outputs": [
    {
     "data": {
      "text/plain": [
       "0.14344527482509128"
      ]
     },
     "execution_count": 680,
     "metadata": {},
     "output_type": "execute_result"
    }
   ],
   "source": [
    "#Support Vector Regression Model \n",
    "#RFEmodelSVR.score(X_trainRFE,y_train)\n",
    "Tuned_RFEmodelSVR.score(X_trainRFE_scaled,y_train)"
   ]
  },
  {
   "cell_type": "code",
   "execution_count": 681,
   "metadata": {},
   "outputs": [
    {
     "data": {
      "text/plain": [
       "-0.011608607338888133"
      ]
     },
     "execution_count": 681,
     "metadata": {},
     "output_type": "execute_result"
    }
   ],
   "source": [
    "#Linear Regression\n",
    "#RFEmodelLR.score(X_trainRFE,y_train)\n",
    "Tuned_RFEmodelLR.score(X_trainRFE_scaled,y_train)"
   ]
  },
  {
   "cell_type": "code",
   "execution_count": 142,
   "metadata": {},
   "outputs": [],
   "source": [
    "#Making Predictions\n",
    "#RFEpredictionsRF = RFEmodelRF.predict(X_testRFE)\n",
    "#RFEpredictionsSVR = RFEmodelSVR.predict(X_testRFE)\n",
    "#RFEpredictionsLR = RFEmodelLR.predict(X_testRFE)"
   ]
  },
  {
   "cell_type": "code",
   "execution_count": 682,
   "metadata": {},
   "outputs": [],
   "source": [
    "#Making Predictions\n",
    "Tuned_RFEpredictionsRF = Tuned_RFEmodelRF.predict(X_testRFE_scaled)\n",
    "Tuned_RFEpredictionsSVR = Tuned_RFEmodelSVR.predict(X_testRFE_scaled)\n",
    "Tuned_RFEpredictionsLR = Tuned_RFEmodelLR.predict(X_testRFE_scaled)"
   ]
  },
  {
   "cell_type": "code",
   "execution_count": 143,
   "metadata": {},
   "outputs": [],
   "source": [
    "#Evaluating the Results\n",
    "#RMSE is just the Square Root of MSE (mean squared error) \n",
    "#RFErmseRF = sqrt(mean_squared_error(y_test, RFEpredictionsRF))\n",
    "#RFErmseSVR = sqrt(mean_squared_error(y_test, RFEpredictionsSVR))\n",
    "#RFErmseLR = sqrt(mean_squared_error(y_test, RFEpredictionsLR))"
   ]
  },
  {
   "cell_type": "code",
   "execution_count": 683,
   "metadata": {},
   "outputs": [],
   "source": [
    "#Evaluating the Results\n",
    "#RMSE is just the Square Root of MSE (mean squared error) \n",
    "Tuned_RFErmseRF = sqrt(mean_squared_error(y_test, Tuned_RFEpredictionsRF))\n",
    "Tuned_RFErmseSVR = sqrt(mean_squared_error(y_test, Tuned_RFEpredictionsSVR))\n",
    "Tuned_RFErmseLR = sqrt(mean_squared_error(y_test, Tuned_RFEpredictionsLR))"
   ]
  },
  {
   "cell_type": "code",
   "execution_count": 144,
   "metadata": {},
   "outputs": [],
   "source": [
    "#establish a variable and use the included function, the ground truth, and the predictions to calculate R Squared \n",
    "#RFEpredRsquaredRF = r2_score(y_test,RFEpredictionsRF)\n",
    "#RFEpredRsquaredSVR = r2_score(y_test,RFEpredictionsSVR)\n",
    "#RFEpredRsquaredLR = r2_score(y_test,RFEpredictionsLR)"
   ]
  },
  {
   "cell_type": "code",
   "execution_count": 684,
   "metadata": {},
   "outputs": [],
   "source": [
    "#establish a variable and use the included function, the ground truth, and the predictions to calculate R Squared \n",
    "Tuned_RFEpredRsquaredRF = r2_score(y_test,Tuned_RFEpredictionsRF)\n",
    "Tuned_RFEpredRsquaredSVR = r2_score(y_test,Tuned_RFEpredictionsSVR)\n",
    "Tuned_RFEpredRsquaredLR = r2_score(y_test,Tuned_RFEpredictionsLR)"
   ]
  },
  {
   "cell_type": "code",
   "execution_count": 192,
   "metadata": {},
   "outputs": [
    {
     "name": "stdout",
     "output_type": "stream",
     "text": [
      "Random Forest R Squared: 0.020\n",
      "RMSE: 0.406\n",
      "Support Vector Regression R Squared: -0.079\n",
      "RMSE: 0.426\n",
      "Linear Regression R Squared: 0.034\n",
      "RMSE: 0.403\n"
     ]
    }
   ],
   "source": [
    "#print('Random Forest R Squared: %.3f' % RFEpredRsquaredRF)\n",
    "#print('RMSE: %.3f' % RFErmseRF)\n",
    "#print('Support Vector Regression R Squared: %.3f' % RFEpredRsquaredSVR)\n",
    "#print('RMSE: %.3f' % RFErmseSVR)\n",
    "#print('Linear Regression R Squared: %.3f' % RFEpredRsquaredLR)\n",
    "#print('RMSE: %.3f' % RFErmseLR)"
   ]
  },
  {
   "cell_type": "code",
   "execution_count": 685,
   "metadata": {},
   "outputs": [
    {
     "name": "stdout",
     "output_type": "stream",
     "text": [
      "Tuned Random Forest R Squared: 0.141\n",
      "Tuned RMSE: 0.372\n",
      "Tuned Support Vector Regression R Squared: 0.046\n",
      "Tuned RMSE: 0.392\n",
      "Tuned Linear Regression R Squared: -0.008\n",
      "Tuned RMSE: 0.403\n"
     ]
    }
   ],
   "source": [
    "print('Tuned Random Forest R Squared: %.3f' % Tuned_RFEpredRsquaredRF)\n",
    "print('Tuned RMSE: %.3f' % Tuned_RFErmseRF)\n",
    "print('Tuned Support Vector Regression R Squared: %.3f' % Tuned_RFEpredRsquaredSVR)\n",
    "print('Tuned RMSE: %.3f' % Tuned_RFErmseSVR)\n",
    "print('Tuned Linear Regression R Squared: %.3f' % Tuned_RFEpredRsquaredLR)\n",
    "print('Tuned RMSE: %.3f' % Tuned_RFErmseLR)"
   ]
  },
  {
   "cell_type": "code",
   "execution_count": 146,
   "metadata": {},
   "outputs": [
    {
     "data": {
      "image/png": "[encoded data removed]",
      "text/plain": [
       "<Figure size 432x288 with 1 Axes>"
      ]
     },
     "metadata": {
      "needs_background": "light"
     },
     "output_type": "display_data"
    }
   ],
   "source": [
    "#Plotting the Results (scatter plot) \n",
    "#plt.scatter(y_test, RFEpredictionsRF, alpha = 0.5)\n",
    "#plt.title('Random Forest')\n",
    "#plt.xlabel('Ground Truth')\n",
    "#plt.ylabel('Predictions')\n",
    "#plt.show();"
   ]
  },
  {
   "cell_type": "code",
   "execution_count": 686,
   "metadata": {},
   "outputs": [
    {
     "data": {
      "image/png": "[encoded data removed]",
      "text/plain": [
       "<Figure size 432x288 with 1 Axes>"
      ]
     },
     "metadata": {
      "needs_background": "light"
     },
     "output_type": "display_data"
    }
   ],
   "source": [
    "#Plotting the Results (scatter plot) \n",
    "plt.scatter(y_test, Tuned_RFEpredictionsRF, alpha = 0.5)\n",
    "plt.title('Tuned Random Forest')\n",
    "plt.xlabel('Ground Truth')\n",
    "plt.ylabel('Predictions')\n",
    "plt.show();"
   ]
  },
  {
   "cell_type": "code",
   "execution_count": 147,
   "metadata": {},
   "outputs": [
    {
     "data": {
      "image/png": "[encoded data removed]",
      "text/plain": [
       "<Figure size 432x288 with 1 Axes>"
      ]
     },
     "metadata": {
      "needs_background": "light"
     },
     "output_type": "display_data"
    }
   ],
   "source": [
    "#Plotting the Results (scatter plot) \n",
    "#plt.scatter(y_test, RFEpredictionsSVR, alpha = 0.5)\n",
    "#plt.title('Support Vector Regression')\n",
    "#plt.xlabel('Ground Truth')\n",
    "#plt.ylabel('Predictions')\n",
    "#plt.show();"
   ]
  },
  {
   "cell_type": "code",
   "execution_count": 687,
   "metadata": {},
   "outputs": [
    {
     "data": {
      "image/png": "[encoded data removed]",
      "text/plain": [
       "<Figure size 432x288 with 1 Axes>"
      ]
     },
     "metadata": {
      "needs_background": "light"
     },
     "output_type": "display_data"
    }
   ],
   "source": [
    "#Plotting the Results (scatter plot) \n",
    "plt.scatter(y_test, Tuned_RFEpredictionsSVR, alpha = 0.5)\n",
    "plt.title('Tuned Support Vector Regression')\n",
    "plt.xlabel('Ground Truth')\n",
    "plt.ylabel('Predictions')\n",
    "plt.show();"
   ]
  },
  {
   "cell_type": "code",
   "execution_count": 149,
   "metadata": {},
   "outputs": [
    {
     "data": {
      "image/png": "[encoded data removed]",
      "text/plain": [
       "<Figure size 432x288 with 1 Axes>"
      ]
     },
     "metadata": {
      "needs_background": "light"
     },
     "output_type": "display_data"
    }
   ],
   "source": [
    "#Plotting the Results (scatter plot) \n",
    "#plt.scatter(y_test, RFEpredictionsLR, alpha = 0.5)\n",
    "#plt.title('Linear Regression')\n",
    "#plt.xlabel('Ground Truth')\n",
    "#plt.ylabel('Predictions')\n",
    "#plt.show();"
   ]
  },
  {
   "cell_type": "code",
   "execution_count": 688,
   "metadata": {},
   "outputs": [
    {
     "data": {
      "image/png": "[encoded data removed]",
      "text/plain": [
       "<Figure size 432x288 with 1 Axes>"
      ]
     },
     "metadata": {
      "needs_background": "light"
     },
     "output_type": "display_data"
    }
   ],
   "source": [
    "#Plotting the Results (scatter plot) \n",
    "plt.scatter(y_test, Tuned_RFEpredictionsLR, alpha = 0.5)\n",
    "plt.title('Tuned Linear Regression')\n",
    "plt.xlabel('Ground Truth')\n",
    "plt.ylabel('Predictions')\n",
    "plt.show();"
   ]
  },
  {
   "cell_type": "code",
   "execution_count": 265,
   "metadata": {},
   "outputs": [
    {
     "data": {
      "text/plain": [
       "MinCovDet(assume_centered=False, random_state=None, store_precision=True,\n",
       "          support_fraction=None)"
      ]
     },
     "execution_count": 265,
     "metadata": {},
     "output_type": "execute_result"
    }
   ],
   "source": [
    "from sklearn.covariance import EmpiricalCovariance, MinCovDet\n",
    "# fit a Minimum Covariance Determinant (MCD) robust estimator to data\n",
    "robust_cov = MinCovDet().fit(features)\n",
    "robust_cov"
   ]
  },
  {
   "cell_type": "code",
   "execution_count": 266,
   "metadata": {},
   "outputs": [
    {
     "data": {
      "text/plain": [
       "EmpiricalCovariance(assume_centered=False, store_precision=True)"
      ]
     },
     "execution_count": 266,
     "metadata": {},
     "output_type": "execute_result"
    }
   ],
   "source": [
    "# compare estimators learnt from the full data set with true parameters\n",
    "emp_cov = EmpiricalCovariance().fit(features)\n",
    "emp_cov"
   ]
  },
  {
   "cell_type": "code",
   "execution_count": null,
   "metadata": {},
   "outputs": [],
   "source": []
  }
 ],
 "metadata": {
  "kernelspec": {
   "display_name": "Python 3",
   "language": "python",
   "name": "python3"
  },
  "language_info": {
   "codemirror_mode": {
    "name": "ipython",
    "version": 3
   },
   "file_extension": ".py",
   "mimetype": "text/x-python",
   "name": "python",
   "nbconvert_exporter": "python",
   "pygments_lexer": "ipython3",
   "version": "3.7.6"
  }
 },
 "nbformat": 4,
 "nbformat_minor": 4
}
